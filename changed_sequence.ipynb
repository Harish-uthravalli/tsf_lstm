{
 "cells": [
  {
   "cell_type": "code",
   "execution_count": 10,
   "metadata": {},
   "outputs": [],
   "source": [
    "import seaborn as sns \n",
    "from pylab import rcParams\n",
    "import matplotlib.pyplot as plt\n",
    "from matplotlib import rc\n",
    "import pandas as pd\n",
    "import numpy as np\n",
    "from tqdm import tqdm\n",
    "import pytorch_lightning as pl\n",
    "from pytorch_lightning.callbacks import ModelCheckpoint, EarlyStopping\n",
    "from pytorch_lightning.loggers import TensorBoardLogger\n",
    "from sklearn.preprocessing import MinMaxScaler\n",
    "import torch\n",
    "import torch.autograd as autograd\n",
    "import torch.nn as nn\n",
    "import torch.nn.functional as F\n",
    "import torch.optim as optim \n",
    "from torch.utils.data import Dataset, DataLoader\n",
    "from collections import defaultdict"
   ]
  },
  {
   "cell_type": "code",
   "execution_count": 11,
   "metadata": {},
   "outputs": [
    {
     "name": "stderr",
     "output_type": "stream",
     "text": [
      "Global seed set to 42\n"
     ]
    },
    {
     "data": {
      "text/plain": [
       "42"
      ]
     },
     "execution_count": 11,
     "metadata": {},
     "output_type": "execute_result"
    }
   ],
   "source": [
    "# random Seed 42 to reproduce the same results everytime\n",
    "tqdm.pandas()\n",
    "pl.seed_everything(42)"
   ]
  },
  {
   "cell_type": "code",
   "execution_count": 12,
   "metadata": {},
   "outputs": [],
   "source": [
    "'''\n",
    "INPUT: CSV file with one target column ie. Protein Activity or Enzyme Activity\n",
    "'''\n",
    "timestamp_column_name = \"TimeStamp\"\n",
    "df = pd.read_csv(\"pi_dataCSV.csv\", parse_dates=[timestamp_column_name])"
   ]
  },
  {
   "cell_type": "code",
   "execution_count": 13,
   "metadata": {},
   "outputs": [
    {
     "name": "stderr",
     "output_type": "stream",
     "text": [
      "100%|██████████| 81/81 [00:00<00:00, 794.13it/s]\n"
     ]
    }
   ],
   "source": [
    "# Get all the names of the batches that we are going to train on\n",
    "batch_names = list(sorted(df.Batch.unique()))\n",
    "\n",
    "for batch in tqdm(batch_names):\n",
    "    # Get all the index values (from CSV) of a batch\n",
    "    list_of_indexes = np.where(df['Batch'] == batch)\n",
    "    # Put a 0 as the protein activity for the start of the experiement\n",
    "    indx_to_put_zero = list_of_indexes[0][0]\n",
    "    # Put a 0 so that interpolation is possible\n",
    "    df.loc[indx_to_put_zero,'PA-MÎ¨ [Main Fermentor]'] = float(0)\n",
    "\n",
    "# Interpolate the protein activity values\n",
    "df['PA-MÎ¨ [Main Fermentor]'] = df['PA-MÎ¨ [Main Fermentor]'].interpolate()\n"
   ]
  },
  {
   "cell_type": "code",
   "execution_count": 14,
   "metadata": {},
   "outputs": [
    {
     "name": "stderr",
     "output_type": "stream",
     "text": [
      "  0%|          | 0/24146 [00:00<?, ?it/s]"
     ]
    },
    {
     "name": "stderr",
     "output_type": "stream",
     "text": [
      "100%|██████████| 24146/24146 [00:02<00:00, 10389.84it/s]\n"
     ]
    },
    {
     "name": "stdout",
     "output_type": "stream",
     "text": [
      "['PBX0163', 'PBX0164', 'PBX0165', 'PBX0166', 'PBX0167', 'PBX0168', 'PBX0168A', 'PBX0169']\n"
     ]
    }
   ],
   "source": [
    "# Create a new DataFrame that will hold only relavant data\n",
    "\n",
    "'''\n",
    "While training on new dataset change the column names and variables names\n",
    "'''\n",
    "rows = []\n",
    "for _, row in tqdm(df.iterrows(), total=df.shape[0]):\n",
    "    row_data = dict(\n",
    "        batch = row.Batch,\n",
    "        day_of_week = row.TimeStamp.dayofweek,\n",
    "        day_of_month = row.TimeStamp.day, \n",
    "        week_of_year = row.TimeStamp.week,\n",
    "        month = row.TimeStamp.month,\n",
    "\n",
    "        # Change column names and variable names from here\n",
    "        # if training on new dataset\n",
    "        ph = row['pH-M [Main Fermentor]'],\n",
    "        temperature = row['Temperature-M [Main Fermentor]'],\n",
    "        airflow = row['AirFlow-M [Main Fermentor]'],\n",
    "        dissolved_oxygen = row['DO-M [Main Fermentor]'],\n",
    "        agitator = row['AgitatorSpeed-M [Main Fermentor]'],\n",
    "\n",
    "        # Name of the target column we need to predict.\n",
    "        enzyme_activity = row['PA-MÎ¨ [Main Fermentor]']\n",
    "    )\n",
    "\n",
    "    rows.append(row_data)\n",
    "\n",
    "# New DataFrame only with important features\n",
    "features_df = pd.DataFrame(rows)\n",
    "\n",
    "# Allocate 90% to training and 10% to testing\n",
    "training_size = int(len(batch_names) * 0.9)\n",
    "\n",
    "# 90% of batch names will go for training and remaining for testing\n",
    "training_batch_names = batch_names[:training_size]\n",
    "testing_batch_names = batch_names[training_size+1:]\n",
    "len(training_batch_names), len(testing_batch_names)\n",
    "print(testing_batch_names)\n"
   ]
  },
  {
   "cell_type": "code",
   "execution_count": 15,
   "metadata": {},
   "outputs": [
    {
     "data": {
      "text/plain": [
       "72"
      ]
     },
     "execution_count": 15,
     "metadata": {},
     "output_type": "execute_result"
    }
   ],
   "source": [
    "# Create a Training and testing Dataframe\n",
    "train_df = pd.DataFrame(columns=features_df.columns)\n",
    "test_df = pd.DataFrame(columns=features_df.columns)\n",
    "\n",
    "# Collect the data based on the training/testing batch names\n",
    "for batch in training_batch_names:\n",
    "    batch_data = features_df[features_df['batch'] == batch]\n",
    "    train_df = pd.concat([train_df, batch_data], ignore_index=True)\n",
    "\n",
    "len(train_df.batch.unique())"
   ]
  },
  {
   "cell_type": "code",
   "execution_count": 16,
   "metadata": {},
   "outputs": [
    {
     "data": {
      "text/plain": [
       "8"
      ]
     },
     "execution_count": 16,
     "metadata": {},
     "output_type": "execute_result"
    }
   ],
   "source": [
    "for batch in testing_batch_names:\n",
    "    batch_data = features_df[features_df['batch'] == batch]\n",
    "    test_df = pd.concat([test_df, batch_data], ignore_index=True)\n",
    "\n",
    "len(test_df.batch.unique())"
   ]
  },
  {
   "cell_type": "code",
   "execution_count": 18,
   "metadata": {},
   "outputs": [],
   "source": [
    "train_sequences = []\n",
    "test_sequences = []\n",
    "\n",
    "# Name of the target column \n",
    "target_column = 'enzyme_activity'\n",
    "\n",
    "# Sequence of data that will be used for training and testing\n",
    "sequence_length = 50"
   ]
  },
  {
   "cell_type": "code",
   "execution_count": 19,
   "metadata": {},
   "outputs": [
    {
     "name": "stderr",
     "output_type": "stream",
     "text": [
      "  0%|          | 0/226 [00:00<?, ?it/s]"
     ]
    },
    {
     "name": "stderr",
     "output_type": "stream",
     "text": [
      "100%|██████████| 226/226 [00:00<00:00, 13294.89it/s]\n",
      "100%|██████████| 248/248 [00:00<00:00, 10334.08it/s]\n",
      "100%|██████████| 192/192 [00:00<00:00, 10666.59it/s]\n",
      "100%|██████████| 245/245 [00:00<00:00, 13607.41it/s]\n",
      "100%|██████████| 247/247 [00:00<00:00, 14530.06it/s]\n",
      "100%|██████████| 242/242 [00:00<00:00, 12738.24it/s]\n",
      "100%|██████████| 274/274 [00:00<00:00, 14422.10it/s]\n",
      "100%|██████████| 239/239 [00:00<00:00, 14055.70it/s]\n",
      "100%|██████████| 241/241 [00:00<00:00, 14176.90it/s]\n",
      "100%|██████████| 169/169 [00:00<00:00, 12997.13it/s]\n",
      "100%|██████████| 254/254 [00:00<00:00, 14941.42it/s]\n",
      "100%|██████████| 291/291 [00:00<00:00, 13228.37it/s]\n",
      "100%|██████████| 145/145 [00:00<00:00, 16112.71it/s]\n",
      "100%|██████████| 253/253 [00:00<00:00, 13316.42it/s]\n",
      "100%|██████████| 305/305 [00:00<00:00, 13887.52it/s]\n",
      "100%|██████████| 277/277 [00:00<00:00, 13723.88it/s]\n",
      "100%|██████████| 283/283 [00:00<00:00, 13272.82it/s]\n",
      "100%|██████████| 211/211 [00:00<00:00, 14064.56it/s]\n",
      "100%|██████████| 237/237 [00:00<00:00, 14814.46it/s]\n",
      "100%|██████████| 195/195 [00:00<00:00, 14999.71it/s]\n",
      "100%|██████████| 241/241 [00:00<00:00, 14177.90it/s]\n",
      "100%|██████████| 259/259 [00:00<00:00, 13631.88it/s]\n",
      "100%|██████████| 218/218 [00:00<00:00, 14533.23it/s]\n",
      "100%|██████████| 249/249 [00:00<00:00, 15565.02it/s]\n",
      "100%|██████████| 260/260 [00:00<00:00, 14441.47it/s]\n",
      "100%|██████████| 261/261 [00:00<00:00, 15354.48it/s]\n",
      "100%|██████████| 262/262 [00:00<00:00, 1052.16it/s]\n",
      "100%|██████████| 294/294 [00:00<00:00, 14703.34it/s]\n",
      "100%|██████████| 272/272 [00:00<00:00, 14304.08it/s]\n",
      "100%|██████████| 200/200 [00:00<00:00, 13335.15it/s]\n",
      "100%|██████████| 270/270 [00:00<00:00, 12859.53it/s]\n",
      "100%|██████████| 267/267 [00:00<00:00, 14833.03it/s]\n",
      "100%|██████████| 264/264 [00:00<00:00, 14668.90it/s]\n",
      "100%|██████████| 253/253 [00:00<00:00, 13315.42it/s]\n",
      "100%|██████████| 252/252 [00:00<00:00, 9692.92it/s]\n",
      "100%|██████████| 253/253 [00:00<00:00, 12650.77it/s]\n",
      "100%|██████████| 284/284 [00:00<00:00, 15776.62it/s]\n",
      "100%|██████████| 279/279 [00:00<00:00, 13952.84it/s]\n",
      "100%|██████████| 252/252 [00:00<00:00, 13263.62it/s]\n",
      "100%|██████████| 260/260 [00:00<00:00, 16251.90it/s]\n",
      "100%|██████████| 244/244 [00:00<00:00, 13558.87it/s]\n",
      "100%|██████████| 257/257 [00:00<00:00, 14279.76it/s]\n",
      "100%|██████████| 268/268 [00:00<00:00, 15765.63it/s]\n",
      "100%|██████████| 226/226 [00:00<00:00, 15068.00it/s]\n",
      "100%|██████████| 237/237 [00:00<00:00, 13943.56it/s]\n",
      "100%|██████████| 252/252 [00:00<00:00, 14824.19it/s]\n",
      "100%|██████████| 256/256 [00:00<00:00, 16001.16it/s]\n",
      "100%|██████████| 252/252 [00:00<00:00, 15752.55it/s]\n",
      "100%|██████████| 258/258 [00:00<00:00, 15176.51it/s]\n",
      "100%|██████████| 244/244 [00:00<00:00, 14351.97it/s]\n",
      "100%|██████████| 254/254 [00:00<00:00, 14113.07it/s]\n",
      "100%|██████████| 252/252 [00:00<00:00, 12600.01it/s]\n",
      "100%|██████████| 254/254 [00:00<00:00, 16935.37it/s]\n",
      "100%|██████████| 257/257 [00:00<00:00, 14281.27it/s]\n",
      "100%|██████████| 259/259 [00:00<00:00, 14637.54it/s]\n",
      "100%|██████████| 255/255 [00:00<00:00, 16201.34it/s]\n",
      "100%|██████████| 251/251 [00:00<00:00, 9683.41it/s]\n",
      "100%|██████████| 254/254 [00:00<00:00, 14941.63it/s]\n",
      "100%|██████████| 214/214 [00:00<00:00, 15285.78it/s]\n",
      "100%|██████████| 210/210 [00:00<00:00, 857.11it/s]\n",
      "100%|██████████| 236/236 [00:00<00:00, 16859.23it/s]\n",
      "100%|██████████| 251/251 [00:00<00:00, 16736.94it/s]\n",
      "100%|██████████| 236/236 [00:00<00:00, 16837.72it/s]\n",
      "100%|██████████| 255/255 [00:00<00:00, 17001.23it/s]\n",
      "100%|██████████| 242/242 [00:00<00:00, 17285.20it/s]\n",
      "100%|██████████| 253/253 [00:00<00:00, 15813.88it/s]\n",
      "100%|██████████| 241/241 [00:00<00:00, 17214.95it/s]\n",
      "100%|██████████| 241/241 [00:00<00:00, 16064.51it/s]\n",
      "100%|██████████| 244/244 [00:00<00:00, 17425.98it/s]\n",
      "100%|██████████| 255/255 [00:00<00:00, 15942.93it/s]\n",
      "100%|██████████| 257/257 [00:00<00:00, 16060.79it/s]\n",
      "100%|██████████| 250/250 [00:00<00:00, 16667.34it/s]\n"
     ]
    }
   ],
   "source": [
    "# Creating a dataframe with training/testing batchs\n",
    "for batch in training_batch_names:\n",
    "\n",
    "    batch_df = pd.DataFrame(train_df[train_df.batch == batch])\n",
    "    # Deleting batch column because it can not be scaled\n",
    "    # Not needed for training\n",
    "    del batch_df['batch']\n",
    "\n",
    "    # Scale the values within -1 , 1\n",
    "    scaler = MinMaxScaler(feature_range=(-1,1))\n",
    "    # Fit the data\n",
    "    scaler.fit(batch_df)\n",
    "    # convert the scaled data to a dataframe\n",
    "    scaled_df = pd.DataFrame(\n",
    "    scaler.transform(batch_df),\n",
    "    index = batch_df.index,\n",
    "    columns=batch_df.columns\n",
    "    )\n",
    "\n",
    "    # create sequences \n",
    "    ''' \n",
    "    every sequence is a list with 2 columns:\n",
    "    col 1: Sequence data from the dataframe\n",
    "    col 2: target value\n",
    "    output: n number of sequences\n",
    "    sequence [ \n",
    "         [ dataframe sequence ]\n",
    "         [ target value for the above sequence ],\n",
    "    ]\n",
    "    '''\n",
    "    data_size = len(scaled_df)\n",
    "    for i in tqdm(range(data_size - sequence_length)):\n",
    "        sequence = scaled_df[i:i+sequence_length]\n",
    "        label_position = i + sequence_length\n",
    "        label = scaled_df.iloc[label_position][target_column]\n",
    "        train_sequences.append((sequence, label))\n",
    "\n",
    "\n",
    "# Create sequences for testing batches\n",
    "for batch in testing_batch_names:\n",
    "    batch_df = pd.DataFrame(test_df[test_df.batch == batch])\n",
    "    del batch_df['batch']\n",
    "    \n",
    "    scaler = MinMaxScaler(feature_range=(-1,1))\n",
    "    scaler.fit(batch_df)\n",
    "\n",
    "    scaled_df = pd.DataFrame(\n",
    "    scaler.transform(batch_df),\n",
    "    index = batch_df.index,\n",
    "    columns=batch_df.columns\n",
    "    )\n",
    "\n",
    "    data_size = len(scaled_df)\n",
    "    sequence_l = 0\n",
    "    for i in range(data_size - sequence_length):\n",
    "        sequence = scaled_df[i:i+sequence_length]\n",
    "        label_position = i + sequence_length\n",
    "        label = scaled_df.iloc[label_position][target_column]\n",
    "        test_sequences.append((sequence, label))\n",
    "\n"
   ]
  },
  {
   "cell_type": "code",
   "execution_count": 20,
   "metadata": {},
   "outputs": [
    {
     "name": "stdout",
     "output_type": "stream",
     "text": [
      "17839\n",
      "2008\n"
     ]
    }
   ],
   "source": [
    "print(len(train_sequences))\n",
    "print(len(test_sequences))\n"
   ]
  },
  {
   "cell_type": "code",
   "execution_count": 144,
   "metadata": {},
   "outputs": [],
   "source": [
    "# Pytorch Dataset Class to create dataset objects\n",
    "class Fermentation_dataset(Dataset):\n",
    "    def __init__(self,sequences):\n",
    "        self.sequences = sequences\n",
    "    \n",
    "    def __len__(self):\n",
    "        return len(self.sequences)\n",
    "    \n",
    "    def __getitem__(self, idx):\n",
    "        sequence, label = self.sequences[idx]\n",
    "\n",
    "        return dict(\n",
    "            sequence=torch.Tensor(sequence.to_numpy()),\n",
    "            label = torch.tensor(label).float()\n",
    "        )"
   ]
  },
  {
   "cell_type": "code",
   "execution_count": 145,
   "metadata": {},
   "outputs": [],
   "source": [
    "# Pytorch-lightning data module class to utilize pl-lightning training functions\n",
    "\n",
    "'''\n",
    "NOTE: If the execution seems to be stuck then try changing the values of num_workers (0,1,2,3..)\n",
    "'''\n",
    "class FermentaionDataModule(pl.LightningDataModule):\n",
    "\n",
    "    def __init__(self, train_sequences, test_sequences, batch_size = 8):\n",
    "        super().__init__()\n",
    "        self.train_sequence = train_sequences\n",
    "        self.test_sequences = test_sequences\n",
    "        self.batch_size = batch_size\n",
    "\n",
    "    def setup(self, stage=None):\n",
    "        self.train_dataset = Fermentation_dataset(self.train_sequence)\n",
    "        self.test_dataset = Fermentation_dataset(self.test_sequences)\n",
    "\n",
    "    def train_dataloader(self):\n",
    "        return DataLoader(\n",
    "            self.train_dataset,\n",
    "            batch_size = self.batch_size,\n",
    "            shuffle = False,\n",
    "            num_workers=0\n",
    "        )\n",
    "    \n",
    "    def val_dataloader(self):\n",
    "        return DataLoader(\n",
    "            self.test_dataset,\n",
    "            batch_size=1,\n",
    "            shuffle=False,\n",
    "            num_workers=0\n",
    "        )\n",
    "\n",
    "    def test_dataloader(self):\n",
    "        return DataLoader(\n",
    "            self.test_dataset,\n",
    "            batch_size=1,\n",
    "            shuffle=False,\n",
    "            num_workers=0\n",
    "        )   "
   ]
  },
  {
   "cell_type": "code",
   "execution_count": 146,
   "metadata": {},
   "outputs": [
    {
     "name": "stdout",
     "output_type": "stream",
     "text": [
      "torch.Size([32, 50, 10])\n",
      "torch.Size([32])\n"
     ]
    }
   ],
   "source": [
    "N_EPOCHS = 5\n",
    "BATCH_SIZE = 32\n",
    "\n",
    "# Create a pl-lightning data module  \n",
    "data_module = FermentaionDataModule(train_sequences, test_sequences, batch_size=BATCH_SIZE)\n",
    "data_module.setup()\n",
    "\n",
    "# Looking if the dataloaders are parsing data properly or not\n",
    "for i in data_module.train_dataloader():\n",
    "    print(i['sequence'].shape)\n",
    "    print(i['label'].shape)\n",
    "    break"
   ]
  },
  {
   "cell_type": "code",
   "execution_count": 147,
   "metadata": {},
   "outputs": [],
   "source": [
    "# Create a pytorch LSTM model \n",
    "class EnzymePredictionModel(nn.Module):\n",
    "    \n",
    "    def __init__(self, n_features, n_hidden=128, n_layers=2):\n",
    "        super().__init__()\n",
    "\n",
    "        self.n_hidden = n_hidden\n",
    "        self.lstm = nn.LSTM(\n",
    "            input_size = n_features,\n",
    "            hidden_size = n_hidden,\n",
    "            batch_first = True, \n",
    "            num_layers = n_layers,\n",
    "            dropout = 0.2\n",
    "        )\n",
    "\n",
    "        self.regressor = nn.Linear(n_hidden, 1)\n",
    "\n",
    "\n",
    "    def forward(self, x):\n",
    "        self.lstm.flatten_parameters()\n",
    "\n",
    "        _, (hidden, _) = self.lstm(x)\n",
    "        out = hidden[-1]\n",
    "\n",
    "        return self.regressor(out)"
   ]
  },
  {
   "cell_type": "code",
   "execution_count": 148,
   "metadata": {},
   "outputs": [],
   "source": [
    "# A pl-lightning module for loss calculations and to check predictions\n",
    "\n",
    "''' \n",
    "LOSS: MSE \n",
    "Optimizer : Adam\n",
    "\n",
    "'''\n",
    "class EnzymePredictor(pl.LightningModule):\n",
    "\n",
    "    def __init__(self, n_features: int):\n",
    "        super().__init__()\n",
    "\n",
    "        self.model = EnzymePredictionModel(n_features)\n",
    "        self.criterion = nn.MSELoss()\n",
    "\n",
    "    def forward(self, x, labels=None):\n",
    "        output = self.model(x)\n",
    "        loss = 0\n",
    "\n",
    "        if labels is not None:\n",
    "            loss = self.criterion(output, labels.unsqueeze(dim=1))\n",
    "\n",
    "        return loss, output\n",
    "\n",
    "    def training_step(self, batch, batch_idx):\n",
    "        sequences = batch[\"sequence\"]\n",
    "        labels = batch[\"label\"]\n",
    "\n",
    "        loss, outputs = self(sequences, labels)\n",
    "        self.log(\"train_loss\", loss, prog_bar = True, logger = True)\n",
    "        return loss\n",
    "    \n",
    "    def validation_step(self, batch, batch_idx):\n",
    "        sequences = batch[\"sequence\"]\n",
    "        labels = batch[\"label\"]\n",
    "\n",
    "        loss, outputs = self(sequences, labels)\n",
    "        self.log(\"validation_loss\", loss, prog_bar = True, logger = True)\n",
    "        return loss\n",
    "    \n",
    "    def test_step(self, batch, batch_idx):\n",
    "        sequences = batch[\"sequence\"]\n",
    "        labels = batch[\"label\"]\n",
    "\n",
    "        loss, outputs = self(sequences, labels)\n",
    "        self.log(\"test_loss\", loss, prog_bar = True, logger = True)\n",
    "        return loss\n",
    "    \n",
    "    def configure_optimizers(self):\n",
    "        return optim.AdamW(self.parameters(), lr=0.0001)"
   ]
  },
  {
   "cell_type": "code",
   "execution_count": 149,
   "metadata": {},
   "outputs": [],
   "source": [
    "# Create the pl-lightning object for prediction\n",
    "# pl-lightning provides methods to calculate loss and accuracy \n",
    "model = EnzymePredictor(n_features=batch_df.shape[1])"
   ]
  },
  {
   "cell_type": "code",
   "execution_count": 150,
   "metadata": {},
   "outputs": [
    {
     "name": "stderr",
     "output_type": "stream",
     "text": [
      "GPU available: False, used: False\n",
      "TPU available: False, using: 0 TPU cores\n",
      "IPU available: False, using: 0 IPUs\n",
      "HPU available: False, using: 0 HPUs\n"
     ]
    }
   ],
   "source": [
    "''' \n",
    "create a checkpoint that will save the best model\n",
    "this will also create checkpoint for model retraining \n",
    "'''\n",
    "checkpoint_callback = ModelCheckpoint(\n",
    "    dirpath = 'checkpoints',\n",
    "    filename='best-checkpoint',\n",
    "    save_top_k= 1,\n",
    "    verbose=True,\n",
    "    monitor='validation_loss',\n",
    "    mode = 'min'\n",
    ")\n",
    "\n",
    "# Create log files for tensorboard visualization \n",
    "logger = TensorBoardLogger('lightning_logs', name='btc-price')\n",
    "\n",
    "# Stop the training if there is no progress in validation loss\n",
    "early_stopping_callback = EarlyStopping(monitor='validation_loss', patience=20)\n",
    "\n",
    "# Create a pl-lightning trainer\n",
    "trainer = pl.Trainer(\n",
    "    logger = logger,\n",
    "    callbacks=[checkpoint_callback],\n",
    "    max_epochs= N_EPOCHS,\n",
    "    enable_progress_bar=True,\n",
    "    num_sanity_val_steps=1\n",
    ")"
   ]
  },
  {
   "cell_type": "code",
   "execution_count": 151,
   "metadata": {},
   "outputs": [
    {
     "name": "stderr",
     "output_type": "stream",
     "text": [
      "c:\\Users\\HRUT\\AppData\\Local\\anaconda3\\envs\\forecasting\\lib\\site-packages\\pytorch_lightning\\callbacks\\model_checkpoint.py:615: UserWarning: Checkpoint directory C:\\Users\\HRUT\\OneDrive - Novozymes A S\\Desktop\\mtf\\checkpoints exists and is not empty.\n",
      "  rank_zero_warn(f\"Checkpoint directory {dirpath} exists and is not empty.\")\n",
      "\n",
      "  | Name      | Type                  | Params\n",
      "----------------------------------------------------\n",
      "0 | model     | EnzymePredictionModel | 203 K \n",
      "1 | criterion | MSELoss               | 0     \n",
      "----------------------------------------------------\n",
      "203 K     Trainable params\n",
      "0         Non-trainable params\n",
      "203 K     Total params\n",
      "0.816     Total estimated model params size (MB)\n"
     ]
    },
    {
     "name": "stdout",
     "output_type": "stream",
     "text": [
      "                                                                            "
     ]
    },
    {
     "name": "stderr",
     "output_type": "stream",
     "text": [
      "c:\\Users\\HRUT\\AppData\\Local\\anaconda3\\envs\\forecasting\\lib\\site-packages\\pytorch_lightning\\trainer\\connectors\\data_connector.py:432: PossibleUserWarning: The dataloader, val_dataloader, does not have many workers which may be a bottleneck. Consider increasing the value of the `num_workers` argument` (try 12 which is the number of cpus on this machine) in the `DataLoader` init to improve performance.\n",
      "  rank_zero_warn(\n",
      "c:\\Users\\HRUT\\AppData\\Local\\anaconda3\\envs\\forecasting\\lib\\site-packages\\pytorch_lightning\\trainer\\connectors\\data_connector.py:432: PossibleUserWarning: The dataloader, train_dataloader, does not have many workers which may be a bottleneck. Consider increasing the value of the `num_workers` argument` (try 12 which is the number of cpus on this machine) in the `DataLoader` init to improve performance.\n",
      "  rank_zero_warn(\n"
     ]
    },
    {
     "name": "stdout",
     "output_type": "stream",
     "text": [
      "Epoch 0: 100%|██████████| 558/558 [00:32<00:00, 16.93it/s, v_num=14, train_loss=0.00937, validation_loss=0.0102]"
     ]
    },
    {
     "name": "stderr",
     "output_type": "stream",
     "text": [
      "Epoch 0, global step 558: 'validation_loss' reached 0.01017 (best 0.01017), saving model to 'C:\\\\Users\\\\HRUT\\\\OneDrive - Novozymes A S\\\\Desktop\\\\mtf\\\\checkpoints\\\\best-checkpoint-v11.ckpt' as top 1\n"
     ]
    },
    {
     "name": "stdout",
     "output_type": "stream",
     "text": [
      "Epoch 1: 100%|██████████| 558/558 [00:32<00:00, 17.42it/s, v_num=14, train_loss=0.00988, validation_loss=0.00212]"
     ]
    },
    {
     "name": "stderr",
     "output_type": "stream",
     "text": [
      "Epoch 1, global step 1116: 'validation_loss' reached 0.00212 (best 0.00212), saving model to 'C:\\\\Users\\\\HRUT\\\\OneDrive - Novozymes A S\\\\Desktop\\\\mtf\\\\checkpoints\\\\best-checkpoint-v11.ckpt' as top 1\n"
     ]
    },
    {
     "name": "stdout",
     "output_type": "stream",
     "text": [
      "Epoch 2: 100%|██████████| 558/558 [00:38<00:00, 14.66it/s, v_num=14, train_loss=0.00681, validation_loss=0.000898]"
     ]
    },
    {
     "name": "stderr",
     "output_type": "stream",
     "text": [
      "Epoch 2, global step 1674: 'validation_loss' reached 0.00090 (best 0.00090), saving model to 'C:\\\\Users\\\\HRUT\\\\OneDrive - Novozymes A S\\\\Desktop\\\\mtf\\\\checkpoints\\\\best-checkpoint-v11.ckpt' as top 1\n"
     ]
    },
    {
     "name": "stdout",
     "output_type": "stream",
     "text": [
      "Epoch 3: 100%|██████████| 558/558 [00:33<00:00, 16.82it/s, v_num=14, train_loss=0.00573, validation_loss=0.000475] "
     ]
    },
    {
     "name": "stderr",
     "output_type": "stream",
     "text": [
      "Epoch 3, global step 2232: 'validation_loss' reached 0.00047 (best 0.00047), saving model to 'C:\\\\Users\\\\HRUT\\\\OneDrive - Novozymes A S\\\\Desktop\\\\mtf\\\\checkpoints\\\\best-checkpoint-v11.ckpt' as top 1\n"
     ]
    },
    {
     "name": "stdout",
     "output_type": "stream",
     "text": [
      "Epoch 4: 100%|██████████| 558/558 [00:33<00:00, 16.88it/s, v_num=14, train_loss=0.00557, validation_loss=0.000297] "
     ]
    },
    {
     "name": "stderr",
     "output_type": "stream",
     "text": [
      "Epoch 4, global step 2790: 'validation_loss' reached 0.00030 (best 0.00030), saving model to 'C:\\\\Users\\\\HRUT\\\\OneDrive - Novozymes A S\\\\Desktop\\\\mtf\\\\checkpoints\\\\best-checkpoint-v11.ckpt' as top 1\n",
      "`Trainer.fit` stopped: `max_epochs=5` reached.\n"
     ]
    },
    {
     "name": "stdout",
     "output_type": "stream",
     "text": [
      "Epoch 4: 100%|██████████| 558/558 [00:33<00:00, 16.86it/s, v_num=14, train_loss=0.00557, validation_loss=0.000297]\n"
     ]
    }
   ],
   "source": [
    "# train the model\n",
    "trainer.fit(model, data_module)"
   ]
  },
  {
   "cell_type": "code",
   "execution_count": 152,
   "metadata": {},
   "outputs": [],
   "source": [
    "# Pick the best checkpoint/model\n",
    "trained_model = EnzymePredictor.load_from_checkpoint(\"checkpoints/best-checkpoint.ckpt\", n_features= batch_df.shape[1] )\n",
    "trained_model.freeze()"
   ]
  },
  {
   "cell_type": "code",
   "execution_count": 153,
   "metadata": {},
   "outputs": [
    {
     "name": "stderr",
     "output_type": "stream",
     "text": [
      "100%|██████████| 2008/2008 [00:02<00:00, 796.00it/s]\n"
     ]
    }
   ],
   "source": [
    "# Create a test dataset \n",
    "test_dataset = Fermentation_dataset(test_sequences)\n",
    "predictions = []\n",
    "labels = []\n",
    "\n",
    "# Pass each sequence through the trained model to get predictions\n",
    "for item in tqdm(test_dataset):\n",
    "    sequence = item['sequence']\n",
    "    label = item['label']\n",
    "\n",
    "    # Get the output label for a particilar sequence\n",
    "    _, output = trained_model(sequence.unsqueeze(dim=0))\n",
    "    predictions.append(output.item())\n",
    "    labels.append(label.item())\n"
   ]
  },
  {
   "cell_type": "code",
   "execution_count": 155,
   "metadata": {},
   "outputs": [],
   "source": [
    "# Descale the values to normal \n",
    "descaler = MinMaxScaler()\n",
    "descaler.min_ , descaler.scale_ = scaler.min_[-1], scaler.scale_[-1]\n",
    "    \n",
    "def descale(descaler, values):\n",
    "    values_2d = np.array(values)[:, np.newaxis]\n",
    "    return descaler.inverse_transform(values_2d).flatten()"
   ]
  },
  {
   "cell_type": "code",
   "execution_count": 157,
   "metadata": {},
   "outputs": [
    {
     "data": {
      "text/html": [
       "<div>\n",
       "<style scoped>\n",
       "    .dataframe tbody tr th:only-of-type {\n",
       "        vertical-align: middle;\n",
       "    }\n",
       "\n",
       "    .dataframe tbody tr th {\n",
       "        vertical-align: top;\n",
       "    }\n",
       "\n",
       "    .dataframe thead th {\n",
       "        text-align: right;\n",
       "    }\n",
       "</style>\n",
       "<table border=\"1\" class=\"dataframe\">\n",
       "  <thead>\n",
       "    <tr style=\"text-align: right;\">\n",
       "      <th></th>\n",
       "      <th>Batch</th>\n",
       "      <th>TimeStamp</th>\n",
       "      <th>Main Fermentor's Unit</th>\n",
       "      <th>Main Fermentor's Phase</th>\n",
       "      <th>Main Fermentor's Hours</th>\n",
       "      <th>pH-M [Main Fermentor]</th>\n",
       "      <th>Temperature-M [Main Fermentor]</th>\n",
       "      <th>AirFlow-M [Main Fermentor]</th>\n",
       "      <th>DO-M [Main Fermentor]</th>\n",
       "      <th>AgitatorSpeed-M [Main Fermentor]</th>\n",
       "      <th>PA-MÎ¨ [Main Fermentor]</th>\n",
       "    </tr>\n",
       "  </thead>\n",
       "  <tbody>\n",
       "    <tr>\n",
       "      <th>0</th>\n",
       "      <td>PBX0163</td>\n",
       "      <td>2023-05-03 21:20:00</td>\n",
       "      <td>31M-MainF (FFN)</td>\n",
       "      <td>Fermentation</td>\n",
       "      <td>0.0000</td>\n",
       "      <td>6.301414</td>\n",
       "      <td>37.112385</td>\n",
       "      <td>30.028204</td>\n",
       "      <td>99.066284</td>\n",
       "      <td>49.956512</td>\n",
       "      <td>0.000000</td>\n",
       "    </tr>\n",
       "    <tr>\n",
       "      <th>1</th>\n",
       "      <td>PBX0163</td>\n",
       "      <td>2023-05-03 21:50:00</td>\n",
       "      <td>31M-MainF (FFN)</td>\n",
       "      <td>Fermentation</td>\n",
       "      <td>0.5000</td>\n",
       "      <td>6.323632</td>\n",
       "      <td>37.443512</td>\n",
       "      <td>33.607067</td>\n",
       "      <td>97.527946</td>\n",
       "      <td>49.956512</td>\n",
       "      <td>0.138103</td>\n",
       "    </tr>\n",
       "    <tr>\n",
       "      <th>2</th>\n",
       "      <td>PBX0163</td>\n",
       "      <td>2023-05-03 22:20:00</td>\n",
       "      <td>31M-MainF (FFN)</td>\n",
       "      <td>Fermentation</td>\n",
       "      <td>1.0000</td>\n",
       "      <td>6.414559</td>\n",
       "      <td>37.663078</td>\n",
       "      <td>37.763649</td>\n",
       "      <td>98.056343</td>\n",
       "      <td>49.954445</td>\n",
       "      <td>0.276207</td>\n",
       "    </tr>\n",
       "    <tr>\n",
       "      <th>3</th>\n",
       "      <td>PBX0163</td>\n",
       "      <td>2023-05-03 22:50:00</td>\n",
       "      <td>31M-MainF (FFN)</td>\n",
       "      <td>Fermentation</td>\n",
       "      <td>1.5000</td>\n",
       "      <td>6.531585</td>\n",
       "      <td>37.577583</td>\n",
       "      <td>44.321323</td>\n",
       "      <td>96.668022</td>\n",
       "      <td>49.956512</td>\n",
       "      <td>0.414310</td>\n",
       "    </tr>\n",
       "    <tr>\n",
       "      <th>4</th>\n",
       "      <td>PBX0163</td>\n",
       "      <td>2023-05-03 23:20:00</td>\n",
       "      <td>31M-MainF (FFN)</td>\n",
       "      <td>Fermentation</td>\n",
       "      <td>2.0000</td>\n",
       "      <td>6.646691</td>\n",
       "      <td>37.535595</td>\n",
       "      <td>49.267849</td>\n",
       "      <td>91.248497</td>\n",
       "      <td>49.923435</td>\n",
       "      <td>0.552414</td>\n",
       "    </tr>\n",
       "    <tr>\n",
       "      <th>...</th>\n",
       "      <td>...</td>\n",
       "      <td>...</td>\n",
       "      <td>...</td>\n",
       "      <td>...</td>\n",
       "      <td>...</td>\n",
       "      <td>...</td>\n",
       "      <td>...</td>\n",
       "      <td>...</td>\n",
       "      <td>...</td>\n",
       "      <td>...</td>\n",
       "      <td>...</td>\n",
       "    </tr>\n",
       "    <tr>\n",
       "      <th>2403</th>\n",
       "      <td>PBX0169</td>\n",
       "      <td>2023-06-12 07:38:00</td>\n",
       "      <td>48M-MainF (FFN)</td>\n",
       "      <td>Fermentation</td>\n",
       "      <td>149.0000</td>\n",
       "      <td>7.277473</td>\n",
       "      <td>35.516933</td>\n",
       "      <td>81.800110</td>\n",
       "      <td>19.977959</td>\n",
       "      <td>93.522400</td>\n",
       "      <td>34.000000</td>\n",
       "    </tr>\n",
       "    <tr>\n",
       "      <th>2404</th>\n",
       "      <td>PBX0169</td>\n",
       "      <td>2023-06-12 08:08:00</td>\n",
       "      <td>48M-MainF (FFN)</td>\n",
       "      <td>Fermentation</td>\n",
       "      <td>149.5000</td>\n",
       "      <td>7.275898</td>\n",
       "      <td>35.042343</td>\n",
       "      <td>78.890785</td>\n",
       "      <td>19.919432</td>\n",
       "      <td>93.501724</td>\n",
       "      <td>33.925000</td>\n",
       "    </tr>\n",
       "    <tr>\n",
       "      <th>2405</th>\n",
       "      <td>PBX0169</td>\n",
       "      <td>2023-06-12 08:38:00</td>\n",
       "      <td>48M-MainF (FFN)</td>\n",
       "      <td>Fermentation</td>\n",
       "      <td>150.0000</td>\n",
       "      <td>7.274323</td>\n",
       "      <td>35.484997</td>\n",
       "      <td>79.709854</td>\n",
       "      <td>19.593107</td>\n",
       "      <td>93.531677</td>\n",
       "      <td>33.850001</td>\n",
       "    </tr>\n",
       "    <tr>\n",
       "      <th>2406</th>\n",
       "      <td>PBX0169</td>\n",
       "      <td>2023-06-12 09:08:00</td>\n",
       "      <td>48M-MainF (FFN)</td>\n",
       "      <td>Fermentation</td>\n",
       "      <td>150.5000</td>\n",
       "      <td>7.288360</td>\n",
       "      <td>35.051445</td>\n",
       "      <td>80.156296</td>\n",
       "      <td>18.479151</td>\n",
       "      <td>93.531700</td>\n",
       "      <td>33.775001</td>\n",
       "    </tr>\n",
       "    <tr>\n",
       "      <th>2407</th>\n",
       "      <td>PBX0169</td>\n",
       "      <td>2023-06-12 09:27:00</td>\n",
       "      <td>48M-MainF (FFN)</td>\n",
       "      <td>Fermentation</td>\n",
       "      <td>150.8194</td>\n",
       "      <td>7.297602</td>\n",
       "      <td>35.087536</td>\n",
       "      <td>72.423538</td>\n",
       "      <td>21.909361</td>\n",
       "      <td>31.212330</td>\n",
       "      <td>33.700001</td>\n",
       "    </tr>\n",
       "  </tbody>\n",
       "</table>\n",
       "<p>2408 rows × 11 columns</p>\n",
       "</div>"
      ],
      "text/plain": [
       "        Batch           TimeStamp Main Fermentor's Unit  \\\n",
       "0     PBX0163 2023-05-03 21:20:00       31M-MainF (FFN)   \n",
       "1     PBX0163 2023-05-03 21:50:00       31M-MainF (FFN)   \n",
       "2     PBX0163 2023-05-03 22:20:00       31M-MainF (FFN)   \n",
       "3     PBX0163 2023-05-03 22:50:00       31M-MainF (FFN)   \n",
       "4     PBX0163 2023-05-03 23:20:00       31M-MainF (FFN)   \n",
       "...       ...                 ...                   ...   \n",
       "2403  PBX0169 2023-06-12 07:38:00       48M-MainF (FFN)   \n",
       "2404  PBX0169 2023-06-12 08:08:00       48M-MainF (FFN)   \n",
       "2405  PBX0169 2023-06-12 08:38:00       48M-MainF (FFN)   \n",
       "2406  PBX0169 2023-06-12 09:08:00       48M-MainF (FFN)   \n",
       "2407  PBX0169 2023-06-12 09:27:00       48M-MainF (FFN)   \n",
       "\n",
       "     Main Fermentor's Phase  Main Fermentor's Hours  pH-M [Main Fermentor]  \\\n",
       "0              Fermentation                  0.0000               6.301414   \n",
       "1              Fermentation                  0.5000               6.323632   \n",
       "2              Fermentation                  1.0000               6.414559   \n",
       "3              Fermentation                  1.5000               6.531585   \n",
       "4              Fermentation                  2.0000               6.646691   \n",
       "...                     ...                     ...                    ...   \n",
       "2403           Fermentation                149.0000               7.277473   \n",
       "2404           Fermentation                149.5000               7.275898   \n",
       "2405           Fermentation                150.0000               7.274323   \n",
       "2406           Fermentation                150.5000               7.288360   \n",
       "2407           Fermentation                150.8194               7.297602   \n",
       "\n",
       "      Temperature-M [Main Fermentor]  AirFlow-M [Main Fermentor]  \\\n",
       "0                          37.112385                   30.028204   \n",
       "1                          37.443512                   33.607067   \n",
       "2                          37.663078                   37.763649   \n",
       "3                          37.577583                   44.321323   \n",
       "4                          37.535595                   49.267849   \n",
       "...                              ...                         ...   \n",
       "2403                       35.516933                   81.800110   \n",
       "2404                       35.042343                   78.890785   \n",
       "2405                       35.484997                   79.709854   \n",
       "2406                       35.051445                   80.156296   \n",
       "2407                       35.087536                   72.423538   \n",
       "\n",
       "      DO-M [Main Fermentor]  AgitatorSpeed-M [Main Fermentor]  \\\n",
       "0                 99.066284                         49.956512   \n",
       "1                 97.527946                         49.956512   \n",
       "2                 98.056343                         49.954445   \n",
       "3                 96.668022                         49.956512   \n",
       "4                 91.248497                         49.923435   \n",
       "...                     ...                               ...   \n",
       "2403              19.977959                         93.522400   \n",
       "2404              19.919432                         93.501724   \n",
       "2405              19.593107                         93.531677   \n",
       "2406              18.479151                         93.531700   \n",
       "2407              21.909361                         31.212330   \n",
       "\n",
       "      PA-MÎ¨ [Main Fermentor]  \n",
       "0                    0.000000  \n",
       "1                    0.138103  \n",
       "2                    0.276207  \n",
       "3                    0.414310  \n",
       "4                    0.552414  \n",
       "...                       ...  \n",
       "2403                34.000000  \n",
       "2404                33.925000  \n",
       "2405                33.850001  \n",
       "2406                33.775001  \n",
       "2407                33.700001  \n",
       "\n",
       "[2408 rows x 11 columns]"
      ]
     },
     "execution_count": 157,
     "metadata": {},
     "output_type": "execute_result"
    }
   ],
   "source": [
    "# To plot the test data prediction against time we get the timestamp column for the data\n",
    "predictions_descaled = descale(descaler, predictions)\n",
    "labels_descaled = descale(descaler, labels)\n",
    "test_data = pd.DataFrame(columns=df.columns)\n",
    "for name in testing_batch_names:\n",
    "    test_data = pd.concat([test_data, df[df['Batch'] == name]], ignore_index=True)\n",
    "test_data"
   ]
  },
  {
   "cell_type": "code",
   "execution_count": 158,
   "metadata": {},
   "outputs": [
    {
     "data": {
      "text/plain": [
       "<matplotlib.legend.Legend at 0x2531f943850>"
      ]
     },
     "execution_count": 158,
     "metadata": {},
     "output_type": "execute_result"
    },
    {
     "data": {
      "image/png": "[encoded data removed]",
      "text/plain": [
       "<Figure size 640x480 with 1 Axes>"
      ]
     },
     "metadata": {},
     "output_type": "display_data"
    }
   ],
   "source": [
    "import matplotlib\n",
    "\n",
    "dates = matplotlib.dates.date2num(test_data.TimeStamp.tolist())\n",
    "plt.plot_date(dates[:len(predictions_descaled)], predictions_descaled, \"--\", label=\"predicted\")\n",
    "plt.plot_date(dates[:len(labels_descaled)], labels_descaled, \"-\", label=\"real\")\n",
    "plt.xticks(rotation=45)\n",
    "plt.xlabel(\"Time\")\n",
    "plt.ylabel(\"Protein Activity\")\n",
    "plt.legend()"
   ]
  }
 ],
 "metadata": {
  "kernelspec": {
   "display_name": "forecasting",
   "language": "python",
   "name": "python3"
  },
  "language_info": {
   "codemirror_mode": {
    "name": "ipython",
    "version": 3
   },
   "file_extension": ".py",
   "mimetype": "text/x-python",
   "name": "python",
   "nbconvert_exporter": "python",
   "pygments_lexer": "ipython3",
   "version": "3.8.17"
  },
  "orig_nbformat": 4
 },
 "nbformat": 4,
 "nbformat_minor": 2
}
