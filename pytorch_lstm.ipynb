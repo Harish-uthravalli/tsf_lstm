{
 "cells": [
  {
   "cell_type": "code",
   "execution_count": 6,
   "metadata": {},
   "outputs": [],
   "source": [
    "from typing import Any\n",
    "import torch.nn as nn\n",
    "import torch\n",
    "from pytorch_lightning.utilities.types import STEP_OUTPUT\n",
    "from torch.optim import Adam\n",
    "import lightning as L\n",
    "\n",
    "class LightningLSTM(L.LightningModule):\n",
    "    def __init__(self):\n",
    "        super().__init__()\n",
    "        self.lstm = nn.LSTM(input_size = 1, hidden_size = 1)\n",
    "    \n",
    "    def forward(self, input):\n",
    "        input_trans = input.view(len(input), 1)\n",
    "        lstm_out, temp = self.lstm(input_trans)\n",
    "        prediction = lstm_out[-1]\n",
    "\n",
    "        return prediction\n",
    "    \n",
    "    def configure_optimizers(self):\n",
    "        return Adam(self.parameters(), lr=0.1)\n",
    "    \n",
    "    def training_step(self, batch, batch_idx):\n",
    "        input_i, label_i = batch\n",
    "        output_i = self.forward(input_i[0])\n",
    "\n",
    "        loss = (output_i - label_i)**2\n",
    "\n",
    "        self.log(\"train_loss\", loss)\n",
    "\n",
    "        if label_i == 0:\n",
    "            self.log('Out_0', output_i)\n",
    "        else:\n",
    "            self.log('Out_1', output_i)\n",
    "\n",
    "        return loss\n",
    "    "
   ]
  },
  {
   "cell_type": "code",
   "execution_count": 7,
   "metadata": {},
   "outputs": [
    {
     "name": "stderr",
     "output_type": "stream",
     "text": [
      "GPU available: False, used: False\n",
      "TPU available: False, using: 0 TPU cores\n",
      "IPU available: False, using: 0 IPUs\n",
      "HPU available: False, using: 0 HPUs\n",
      "\n",
      "  | Name | Type | Params\n",
      "------------------------------\n",
      "0 | lstm | LSTM | 16    \n",
      "------------------------------\n",
      "16        Trainable params\n",
      "0         Non-trainable params\n",
      "16        Total params\n",
      "0.000     Total estimated model params size (MB)\n"
     ]
    },
    {
     "name": "stdout",
     "output_type": "stream",
     "text": [
      "Epoch 299: 100%|██████████| 2/2 [00:00<00:00, 62.50it/s, v_num=0] "
     ]
    },
    {
     "name": "stderr",
     "output_type": "stream",
     "text": [
      "`Trainer.fit` stopped: `max_epochs=300` reached.\n"
     ]
    },
    {
     "name": "stdout",
     "output_type": "stream",
     "text": [
      "Epoch 299: 100%|██████████| 2/2 [00:00<00:00, 47.62it/s, v_num=0]\n",
      "\n",
      " Now Lets compare the observed and predicted values\n",
      "Company A: Observed = 0, Predicted = 0  tensor([2.0444e-05], grad_fn=<SelectBackward0>)\n",
      "\n",
      " Now Lets compare the observed and predicted values\n",
      "Company A: Observed = 1, Predicted = 0  tensor([0.9886], grad_fn=<SelectBackward0>)\n"
     ]
    }
   ],
   "source": [
    "from torch.utils.data import TensorDataset, DataLoader\n",
    "\n",
    "model = LightningLSTM()\n",
    "input = torch.tensor([\n",
    "    [0., 0.5, 0.25, 1.0],\n",
    "    [1., 0.5, 0.25, 1.]\n",
    "])\n",
    "labels = torch.tensor([0., 1.])\n",
    "dataset = TensorDataset(input, labels)\n",
    "dataloader = DataLoader(dataset=dataset)\n",
    "trainer = L.Trainer(max_epochs=300, log_every_n_steps=2)\n",
    "trainer.fit(model=model, train_dataloaders=dataloader)\n",
    "\n",
    "print(\"\\n Now Lets compare the observed and predicted values\")\n",
    "print(\"Company A: Observed = 0, Predicted = 0 \", model(torch.tensor([0.,0.5,0.25, 1]).detach()))\n",
    "\n",
    "print(\"\\n Now Lets compare the observed and predicted values\")\n",
    "print(\"Company A: Observed = 1, Predicted = 0 \", model(torch.tensor([1.,0.5,0.25, 1]).detach()))"
   ]
  }
 ],
 "metadata": {
  "kernelspec": {
   "display_name": "test",
   "language": "python",
   "name": "python3"
  },
  "language_info": {
   "codemirror_mode": {
    "name": "ipython",
    "version": 3
   },
   "file_extension": ".py",
   "mimetype": "text/x-python",
   "name": "python",
   "nbconvert_exporter": "python",
   "pygments_lexer": "ipython3",
   "version": "3.10.12"
  },
  "orig_nbformat": 4
 },
 "nbformat": 4,
 "nbformat_minor": 2
}
