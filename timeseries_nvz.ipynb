{
 "cells": [
  {
   "cell_type": "code",
   "execution_count": 126,
   "metadata": {},
   "outputs": [],
   "source": [
    "import seaborn as sns \n",
    "from pylab import rcParams\n",
    "import matplotlib.pyplot as plt\n",
    "from matplotlib import rc\n",
    "import pandas as pd\n",
    "import numpy as np\n",
    "from tqdm import tqdm\n",
    "import pytorch_lightning as pl\n",
    "from pytorch_lightning.callbacks import ModelCheckpoint, EarlyStopping\n",
    "from pytorch_lightning.loggers import TensorBoardLogger\n",
    "from sklearn.preprocessing import MinMaxScaler\n",
    "import torch\n",
    "import torch.autograd as autograd\n",
    "import torch.nn as nn\n",
    "import torch.nn.functional as F\n",
    "import torch.optim as optim \n",
    "from torch.utils.data import Dataset, DataLoader\n",
    "from collections import defaultdict"
   ]
  },
  {
   "cell_type": "code",
   "execution_count": 127,
   "metadata": {},
   "outputs": [
    {
     "name": "stderr",
     "output_type": "stream",
     "text": [
      "Global seed set to 42\n"
     ]
    },
    {
     "data": {
      "text/plain": [
       "42"
      ]
     },
     "execution_count": 127,
     "metadata": {},
     "output_type": "execute_result"
    }
   ],
   "source": [
    "# seed 42 to make sure all runs produce the same result\n",
    "tqdm.pandas()\n",
    "pl.seed_everything(42)"
   ]
  },
  {
   "cell_type": "code",
   "execution_count": 128,
   "metadata": {},
   "outputs": [],
   "source": [
    "df = pd.read_csv(\"test.csv\", parse_dates=['TimeStamp'])"
   ]
  },
  {
   "cell_type": "code",
   "execution_count": 129,
   "metadata": {},
   "outputs": [],
   "source": [
    "def create_sequences(input_data:pd.DataFrame, target_column, sequence_length):\n",
    "    sequences = []\n",
    "    data_size = len(input_data)\n",
    "    for i in tqdm(range(data_size - sequence_length)):\n",
    "        sequence = input_data[i:i+sequence_length]\n",
    "        label_position = i + sequence_length\n",
    "        label = input_data.iloc[label_position][target_column]\n",
    "        sequences.append((sequence,label))\n",
    "\n",
    "    return sequences"
   ]
  },
  {
   "cell_type": "code",
   "execution_count": 130,
   "metadata": {},
   "outputs": [
    {
     "name": "stderr",
     "output_type": "stream",
     "text": [
      "100%|██████████| 1/1 [00:00<00:00, 1000.55it/s]\n"
     ]
    },
    {
     "data": {
      "text/html": [
       "<div>\n",
       "<style scoped>\n",
       "    .dataframe tbody tr th:only-of-type {\n",
       "        vertical-align: middle;\n",
       "    }\n",
       "\n",
       "    .dataframe tbody tr th {\n",
       "        vertical-align: top;\n",
       "    }\n",
       "\n",
       "    .dataframe thead th {\n",
       "        text-align: right;\n",
       "    }\n",
       "</style>\n",
       "<table border=\"1\" class=\"dataframe\">\n",
       "  <thead>\n",
       "    <tr style=\"text-align: right;\">\n",
       "      <th></th>\n",
       "      <th>Batch</th>\n",
       "      <th>TimeStamp</th>\n",
       "      <th>Main Fermentor's Unit</th>\n",
       "      <th>Main Fermentor's Phase</th>\n",
       "      <th>Main Fermentor's Hours</th>\n",
       "      <th>pH-M [Main Fermentor]</th>\n",
       "      <th>Temperature-M [Main Fermentor]</th>\n",
       "      <th>AirFlow-M [Main Fermentor]</th>\n",
       "      <th>DO-M [Main Fermentor]</th>\n",
       "      <th>AgitatorSpeed-M [Main Fermentor]</th>\n",
       "      <th>PA-MÎ¨ [Main Fermentor]</th>\n",
       "    </tr>\n",
       "  </thead>\n",
       "  <tbody>\n",
       "    <tr>\n",
       "      <th>0</th>\n",
       "      <td>PBX0086</td>\n",
       "      <td>2021-08-09 18:29:00</td>\n",
       "      <td>30M-MainF (FFN)</td>\n",
       "      <td>Fermentation</td>\n",
       "      <td>0.0000</td>\n",
       "      <td>6.541058</td>\n",
       "      <td>38.280506</td>\n",
       "      <td>30.208164</td>\n",
       "      <td>107.002650</td>\n",
       "      <td>49.180222</td>\n",
       "      <td>0.000000</td>\n",
       "    </tr>\n",
       "    <tr>\n",
       "      <th>1</th>\n",
       "      <td>PBX0086</td>\n",
       "      <td>2021-08-09 18:59:00</td>\n",
       "      <td>30M-MainF (FFN)</td>\n",
       "      <td>Fermentation</td>\n",
       "      <td>0.5000</td>\n",
       "      <td>6.547292</td>\n",
       "      <td>38.348591</td>\n",
       "      <td>34.483845</td>\n",
       "      <td>130.000000</td>\n",
       "      <td>49.059280</td>\n",
       "      <td>0.124375</td>\n",
       "    </tr>\n",
       "    <tr>\n",
       "      <th>2</th>\n",
       "      <td>PBX0086</td>\n",
       "      <td>2021-08-09 19:29:00</td>\n",
       "      <td>30M-MainF (FFN)</td>\n",
       "      <td>Fermentation</td>\n",
       "      <td>1.0000</td>\n",
       "      <td>6.560985</td>\n",
       "      <td>38.206680</td>\n",
       "      <td>37.933174</td>\n",
       "      <td>103.047910</td>\n",
       "      <td>49.123219</td>\n",
       "      <td>0.248750</td>\n",
       "    </tr>\n",
       "    <tr>\n",
       "      <th>3</th>\n",
       "      <td>PBX0086</td>\n",
       "      <td>2021-08-09 19:59:00</td>\n",
       "      <td>30M-MainF (FFN)</td>\n",
       "      <td>Fermentation</td>\n",
       "      <td>1.5000</td>\n",
       "      <td>6.772844</td>\n",
       "      <td>38.149670</td>\n",
       "      <td>43.399303</td>\n",
       "      <td>99.333191</td>\n",
       "      <td>49.059280</td>\n",
       "      <td>0.373125</td>\n",
       "    </tr>\n",
       "    <tr>\n",
       "      <th>4</th>\n",
       "      <td>PBX0086</td>\n",
       "      <td>2021-08-09 20:29:00</td>\n",
       "      <td>30M-MainF (FFN)</td>\n",
       "      <td>Fermentation</td>\n",
       "      <td>2.0000</td>\n",
       "      <td>6.967603</td>\n",
       "      <td>38.126041</td>\n",
       "      <td>48.416733</td>\n",
       "      <td>88.852539</td>\n",
       "      <td>49.178154</td>\n",
       "      <td>0.497500</td>\n",
       "    </tr>\n",
       "    <tr>\n",
       "      <th>...</th>\n",
       "      <td>...</td>\n",
       "      <td>...</td>\n",
       "      <td>...</td>\n",
       "      <td>...</td>\n",
       "      <td>...</td>\n",
       "      <td>...</td>\n",
       "      <td>...</td>\n",
       "      <td>...</td>\n",
       "      <td>...</td>\n",
       "      <td>...</td>\n",
       "      <td>...</td>\n",
       "    </tr>\n",
       "    <tr>\n",
       "      <th>237</th>\n",
       "      <td>PBX0086</td>\n",
       "      <td>2021-08-14 16:59:00</td>\n",
       "      <td>30M-MainF (FFN)</td>\n",
       "      <td>Fermentation</td>\n",
       "      <td>118.5000</td>\n",
       "      <td>7.236203</td>\n",
       "      <td>30.235752</td>\n",
       "      <td>59.098087</td>\n",
       "      <td>19.362829</td>\n",
       "      <td>87.520332</td>\n",
       "      <td>26.054838</td>\n",
       "    </tr>\n",
       "    <tr>\n",
       "      <th>238</th>\n",
       "      <td>PBX0086</td>\n",
       "      <td>2021-08-14 17:29:00</td>\n",
       "      <td>30M-MainF (FFN)</td>\n",
       "      <td>Fermentation</td>\n",
       "      <td>119.0000</td>\n",
       "      <td>7.226877</td>\n",
       "      <td>30.235752</td>\n",
       "      <td>58.748810</td>\n",
       "      <td>19.703136</td>\n",
       "      <td>84.560921</td>\n",
       "      <td>26.116128</td>\n",
       "    </tr>\n",
       "    <tr>\n",
       "      <th>239</th>\n",
       "      <td>PBX0086</td>\n",
       "      <td>2021-08-14 17:59:00</td>\n",
       "      <td>30M-MainF (FFN)</td>\n",
       "      <td>Fermentation</td>\n",
       "      <td>119.5000</td>\n",
       "      <td>7.228476</td>\n",
       "      <td>30.235752</td>\n",
       "      <td>58.126873</td>\n",
       "      <td>18.815622</td>\n",
       "      <td>88.023735</td>\n",
       "      <td>26.177418</td>\n",
       "    </tr>\n",
       "    <tr>\n",
       "      <th>240</th>\n",
       "      <td>PBX0086</td>\n",
       "      <td>2021-08-14 18:29:00</td>\n",
       "      <td>30M-MainF (FFN)</td>\n",
       "      <td>Fermentation</td>\n",
       "      <td>120.0000</td>\n",
       "      <td>7.222972</td>\n",
       "      <td>30.402494</td>\n",
       "      <td>58.362244</td>\n",
       "      <td>14.078028</td>\n",
       "      <td>86.560051</td>\n",
       "      <td>26.238709</td>\n",
       "    </tr>\n",
       "    <tr>\n",
       "      <th>241</th>\n",
       "      <td>PBX0086</td>\n",
       "      <td>2021-08-14 18:43:00</td>\n",
       "      <td>30M-MainF (FFN)</td>\n",
       "      <td>Fermentation</td>\n",
       "      <td>120.2194</td>\n",
       "      <td>7.233249</td>\n",
       "      <td>30.614275</td>\n",
       "      <td>56.999146</td>\n",
       "      <td>21.460022</td>\n",
       "      <td>85.554283</td>\n",
       "      <td>26.299999</td>\n",
       "    </tr>\n",
       "  </tbody>\n",
       "</table>\n",
       "<p>242 rows × 11 columns</p>\n",
       "</div>"
      ],
      "text/plain": [
       "       Batch           TimeStamp Main Fermentor's Unit Main Fermentor's Phase  \\\n",
       "0    PBX0086 2021-08-09 18:29:00       30M-MainF (FFN)           Fermentation   \n",
       "1    PBX0086 2021-08-09 18:59:00       30M-MainF (FFN)           Fermentation   \n",
       "2    PBX0086 2021-08-09 19:29:00       30M-MainF (FFN)           Fermentation   \n",
       "3    PBX0086 2021-08-09 19:59:00       30M-MainF (FFN)           Fermentation   \n",
       "4    PBX0086 2021-08-09 20:29:00       30M-MainF (FFN)           Fermentation   \n",
       "..       ...                 ...                   ...                    ...   \n",
       "237  PBX0086 2021-08-14 16:59:00       30M-MainF (FFN)           Fermentation   \n",
       "238  PBX0086 2021-08-14 17:29:00       30M-MainF (FFN)           Fermentation   \n",
       "239  PBX0086 2021-08-14 17:59:00       30M-MainF (FFN)           Fermentation   \n",
       "240  PBX0086 2021-08-14 18:29:00       30M-MainF (FFN)           Fermentation   \n",
       "241  PBX0086 2021-08-14 18:43:00       30M-MainF (FFN)           Fermentation   \n",
       "\n",
       "     Main Fermentor's Hours  pH-M [Main Fermentor]  \\\n",
       "0                    0.0000               6.541058   \n",
       "1                    0.5000               6.547292   \n",
       "2                    1.0000               6.560985   \n",
       "3                    1.5000               6.772844   \n",
       "4                    2.0000               6.967603   \n",
       "..                      ...                    ...   \n",
       "237                118.5000               7.236203   \n",
       "238                119.0000               7.226877   \n",
       "239                119.5000               7.228476   \n",
       "240                120.0000               7.222972   \n",
       "241                120.2194               7.233249   \n",
       "\n",
       "     Temperature-M [Main Fermentor]  AirFlow-M [Main Fermentor]  \\\n",
       "0                         38.280506                   30.208164   \n",
       "1                         38.348591                   34.483845   \n",
       "2                         38.206680                   37.933174   \n",
       "3                         38.149670                   43.399303   \n",
       "4                         38.126041                   48.416733   \n",
       "..                              ...                         ...   \n",
       "237                       30.235752                   59.098087   \n",
       "238                       30.235752                   58.748810   \n",
       "239                       30.235752                   58.126873   \n",
       "240                       30.402494                   58.362244   \n",
       "241                       30.614275                   56.999146   \n",
       "\n",
       "     DO-M [Main Fermentor]  AgitatorSpeed-M [Main Fermentor]  \\\n",
       "0               107.002650                         49.180222   \n",
       "1               130.000000                         49.059280   \n",
       "2               103.047910                         49.123219   \n",
       "3                99.333191                         49.059280   \n",
       "4                88.852539                         49.178154   \n",
       "..                     ...                               ...   \n",
       "237              19.362829                         87.520332   \n",
       "238              19.703136                         84.560921   \n",
       "239              18.815622                         88.023735   \n",
       "240              14.078028                         86.560051   \n",
       "241              21.460022                         85.554283   \n",
       "\n",
       "     PA-MÎ¨ [Main Fermentor]  \n",
       "0                   0.000000  \n",
       "1                   0.124375  \n",
       "2                   0.248750  \n",
       "3                   0.373125  \n",
       "4                   0.497500  \n",
       "..                       ...  \n",
       "237                26.054838  \n",
       "238                26.116128  \n",
       "239                26.177418  \n",
       "240                26.238709  \n",
       "241                26.299999  \n",
       "\n",
       "[242 rows x 11 columns]"
      ]
     },
     "execution_count": 130,
     "metadata": {},
     "output_type": "execute_result"
    }
   ],
   "source": [
    "batch_names = list(df.Batch.unique())\n",
    "for batch in tqdm(batch_names):\n",
    "    list_of_indexes = np.where(df['Batch'] == batch)\n",
    "    indx_to_put_zero = list_of_indexes[0][0]\n",
    "    df.loc[indx_to_put_zero,'PA-MÎ¨ [Main Fermentor]'] = float(0)\n",
    "\n",
    "df['PA-MÎ¨ [Main Fermentor]'] = df['PA-MÎ¨ [Main Fermentor]'].interpolate()\n",
    "df\n"
   ]
  },
  {
   "cell_type": "code",
   "execution_count": 131,
   "metadata": {},
   "outputs": [
    {
     "name": "stderr",
     "output_type": "stream",
     "text": [
      "100%|██████████| 242/242 [00:00<00:00, 6722.49it/s]\n"
     ]
    }
   ],
   "source": [
    "rows = []\n",
    "for _, row in tqdm(df.iterrows(), total=df.shape[0]):\n",
    "    row_data = dict(\n",
    "        day_of_week = row.TimeStamp.dayofweek,\n",
    "        day_of_month = row.TimeStamp.day, \n",
    "        week_of_year = row.TimeStamp.week,\n",
    "        month = row.TimeStamp.month,\n",
    "        ph = row['pH-M [Main Fermentor]'],\n",
    "        temperature = row['Temperature-M [Main Fermentor]'],\n",
    "        airflow = row['AirFlow-M [Main Fermentor]'],\n",
    "        dissolved_oxygen = row['DO-M [Main Fermentor]'],\n",
    "        agitator = row['AgitatorSpeed-M [Main Fermentor]'],\n",
    "        enzyme_activity = row['PA-MÎ¨ [Main Fermentor]']\n",
    "    )\n",
    "\n",
    "    rows.append(row_data)\n",
    "\n",
    "features_df = pd.DataFrame(rows)"
   ]
  },
  {
   "cell_type": "code",
   "execution_count": 132,
   "metadata": {},
   "outputs": [
    {
     "data": {
      "text/html": [
       "<div>\n",
       "<style scoped>\n",
       "    .dataframe tbody tr th:only-of-type {\n",
       "        vertical-align: middle;\n",
       "    }\n",
       "\n",
       "    .dataframe tbody tr th {\n",
       "        vertical-align: top;\n",
       "    }\n",
       "\n",
       "    .dataframe thead th {\n",
       "        text-align: right;\n",
       "    }\n",
       "</style>\n",
       "<table border=\"1\" class=\"dataframe\">\n",
       "  <thead>\n",
       "    <tr style=\"text-align: right;\">\n",
       "      <th></th>\n",
       "      <th>day_of_week</th>\n",
       "      <th>day_of_month</th>\n",
       "      <th>week_of_year</th>\n",
       "      <th>month</th>\n",
       "      <th>ph</th>\n",
       "      <th>temperature</th>\n",
       "      <th>airflow</th>\n",
       "      <th>dissolved_oxygen</th>\n",
       "      <th>agitator</th>\n",
       "      <th>enzyme_activity</th>\n",
       "    </tr>\n",
       "  </thead>\n",
       "  <tbody>\n",
       "    <tr>\n",
       "      <th>0</th>\n",
       "      <td>0</td>\n",
       "      <td>9</td>\n",
       "      <td>32</td>\n",
       "      <td>8</td>\n",
       "      <td>6.541058</td>\n",
       "      <td>38.280506</td>\n",
       "      <td>30.208164</td>\n",
       "      <td>107.002650</td>\n",
       "      <td>49.180222</td>\n",
       "      <td>0.000000</td>\n",
       "    </tr>\n",
       "    <tr>\n",
       "      <th>1</th>\n",
       "      <td>0</td>\n",
       "      <td>9</td>\n",
       "      <td>32</td>\n",
       "      <td>8</td>\n",
       "      <td>6.547292</td>\n",
       "      <td>38.348591</td>\n",
       "      <td>34.483845</td>\n",
       "      <td>130.000000</td>\n",
       "      <td>49.059280</td>\n",
       "      <td>0.124375</td>\n",
       "    </tr>\n",
       "    <tr>\n",
       "      <th>2</th>\n",
       "      <td>0</td>\n",
       "      <td>9</td>\n",
       "      <td>32</td>\n",
       "      <td>8</td>\n",
       "      <td>6.560985</td>\n",
       "      <td>38.206680</td>\n",
       "      <td>37.933174</td>\n",
       "      <td>103.047910</td>\n",
       "      <td>49.123219</td>\n",
       "      <td>0.248750</td>\n",
       "    </tr>\n",
       "    <tr>\n",
       "      <th>3</th>\n",
       "      <td>0</td>\n",
       "      <td>9</td>\n",
       "      <td>32</td>\n",
       "      <td>8</td>\n",
       "      <td>6.772844</td>\n",
       "      <td>38.149670</td>\n",
       "      <td>43.399303</td>\n",
       "      <td>99.333191</td>\n",
       "      <td>49.059280</td>\n",
       "      <td>0.373125</td>\n",
       "    </tr>\n",
       "    <tr>\n",
       "      <th>4</th>\n",
       "      <td>0</td>\n",
       "      <td>9</td>\n",
       "      <td>32</td>\n",
       "      <td>8</td>\n",
       "      <td>6.967603</td>\n",
       "      <td>38.126041</td>\n",
       "      <td>48.416733</td>\n",
       "      <td>88.852539</td>\n",
       "      <td>49.178154</td>\n",
       "      <td>0.497500</td>\n",
       "    </tr>\n",
       "  </tbody>\n",
       "</table>\n",
       "</div>"
      ],
      "text/plain": [
       "   day_of_week  day_of_month  week_of_year  month        ph  temperature  \\\n",
       "0            0             9            32      8  6.541058    38.280506   \n",
       "1            0             9            32      8  6.547292    38.348591   \n",
       "2            0             9            32      8  6.560985    38.206680   \n",
       "3            0             9            32      8  6.772844    38.149670   \n",
       "4            0             9            32      8  6.967603    38.126041   \n",
       "\n",
       "     airflow  dissolved_oxygen   agitator  enzyme_activity  \n",
       "0  30.208164        107.002650  49.180222         0.000000  \n",
       "1  34.483845        130.000000  49.059280         0.124375  \n",
       "2  37.933174        103.047910  49.123219         0.248750  \n",
       "3  43.399303         99.333191  49.059280         0.373125  \n",
       "4  48.416733         88.852539  49.178154         0.497500  "
      ]
     },
     "execution_count": 132,
     "metadata": {},
     "output_type": "execute_result"
    }
   ],
   "source": [
    "features_df.head()"
   ]
  },
  {
   "cell_type": "code",
   "execution_count": 133,
   "metadata": {},
   "outputs": [
    {
     "data": {
      "text/plain": [
       "((217, 10), (24, 10))"
      ]
     },
     "execution_count": 133,
     "metadata": {},
     "output_type": "execute_result"
    }
   ],
   "source": [
    "training_size = int(len(features_df) * 0.9)\n",
    "training_size\n",
    "\n",
    "train_df , test_df = features_df[:training_size], features_df[training_size+1:]\n",
    "train_df.shape, test_df.shape"
   ]
  },
  {
   "cell_type": "code",
   "execution_count": 134,
   "metadata": {},
   "outputs": [],
   "source": [
    "scaler = MinMaxScaler(feature_range=(-1,1))\n",
    "scaler = scaler.fit(train_df)"
   ]
  },
  {
   "cell_type": "code",
   "execution_count": 135,
   "metadata": {},
   "outputs": [
    {
     "data": {
      "text/html": [
       "<div>\n",
       "<style scoped>\n",
       "    .dataframe tbody tr th:only-of-type {\n",
       "        vertical-align: middle;\n",
       "    }\n",
       "\n",
       "    .dataframe tbody tr th {\n",
       "        vertical-align: top;\n",
       "    }\n",
       "\n",
       "    .dataframe thead th {\n",
       "        text-align: right;\n",
       "    }\n",
       "</style>\n",
       "<table border=\"1\" class=\"dataframe\">\n",
       "  <thead>\n",
       "    <tr style=\"text-align: right;\">\n",
       "      <th></th>\n",
       "      <th>day_of_week</th>\n",
       "      <th>day_of_month</th>\n",
       "      <th>week_of_year</th>\n",
       "      <th>month</th>\n",
       "      <th>ph</th>\n",
       "      <th>temperature</th>\n",
       "      <th>airflow</th>\n",
       "      <th>dissolved_oxygen</th>\n",
       "      <th>agitator</th>\n",
       "      <th>enzyme_activity</th>\n",
       "    </tr>\n",
       "  </thead>\n",
       "  <tbody>\n",
       "    <tr>\n",
       "      <th>0</th>\n",
       "      <td>-1.0</td>\n",
       "      <td>-1.0</td>\n",
       "      <td>-1.0</td>\n",
       "      <td>-1.0</td>\n",
       "      <td>-1.000000</td>\n",
       "      <td>0.959430</td>\n",
       "      <td>-1.000000</td>\n",
       "      <td>0.623850</td>\n",
       "      <td>-0.995025</td>\n",
       "      <td>-1.000000</td>\n",
       "    </tr>\n",
       "    <tr>\n",
       "      <th>1</th>\n",
       "      <td>-1.0</td>\n",
       "      <td>-1.0</td>\n",
       "      <td>-1.0</td>\n",
       "      <td>-1.0</td>\n",
       "      <td>-0.987945</td>\n",
       "      <td>0.975258</td>\n",
       "      <td>-0.796076</td>\n",
       "      <td>1.000000</td>\n",
       "      <td>-1.000000</td>\n",
       "      <td>-0.989957</td>\n",
       "    </tr>\n",
       "    <tr>\n",
       "      <th>2</th>\n",
       "      <td>-1.0</td>\n",
       "      <td>-1.0</td>\n",
       "      <td>-1.0</td>\n",
       "      <td>-1.0</td>\n",
       "      <td>-0.961469</td>\n",
       "      <td>0.942268</td>\n",
       "      <td>-0.631564</td>\n",
       "      <td>0.559166</td>\n",
       "      <td>-0.997370</td>\n",
       "      <td>-0.979913</td>\n",
       "    </tr>\n",
       "    <tr>\n",
       "      <th>3</th>\n",
       "      <td>-1.0</td>\n",
       "      <td>-1.0</td>\n",
       "      <td>-1.0</td>\n",
       "      <td>-1.0</td>\n",
       "      <td>-0.551819</td>\n",
       "      <td>0.929015</td>\n",
       "      <td>-0.370863</td>\n",
       "      <td>0.498407</td>\n",
       "      <td>-1.000000</td>\n",
       "      <td>-0.969870</td>\n",
       "    </tr>\n",
       "    <tr>\n",
       "      <th>4</th>\n",
       "      <td>-1.0</td>\n",
       "      <td>-1.0</td>\n",
       "      <td>-1.0</td>\n",
       "      <td>-1.0</td>\n",
       "      <td>-0.175235</td>\n",
       "      <td>0.923523</td>\n",
       "      <td>-0.131562</td>\n",
       "      <td>0.326983</td>\n",
       "      <td>-0.995110</td>\n",
       "      <td>-0.959827</td>\n",
       "    </tr>\n",
       "  </tbody>\n",
       "</table>\n",
       "</div>"
      ],
      "text/plain": [
       "   day_of_week  day_of_month  week_of_year  month        ph  temperature  \\\n",
       "0         -1.0          -1.0          -1.0   -1.0 -1.000000     0.959430   \n",
       "1         -1.0          -1.0          -1.0   -1.0 -0.987945     0.975258   \n",
       "2         -1.0          -1.0          -1.0   -1.0 -0.961469     0.942268   \n",
       "3         -1.0          -1.0          -1.0   -1.0 -0.551819     0.929015   \n",
       "4         -1.0          -1.0          -1.0   -1.0 -0.175235     0.923523   \n",
       "\n",
       "    airflow  dissolved_oxygen  agitator  enzyme_activity  \n",
       "0 -1.000000          0.623850 -0.995025        -1.000000  \n",
       "1 -0.796076          1.000000 -1.000000        -0.989957  \n",
       "2 -0.631564          0.559166 -0.997370        -0.979913  \n",
       "3 -0.370863          0.498407 -1.000000        -0.969870  \n",
       "4 -0.131562          0.326983 -0.995110        -0.959827  "
      ]
     },
     "execution_count": 135,
     "metadata": {},
     "output_type": "execute_result"
    }
   ],
   "source": [
    "train_df = pd.DataFrame(\n",
    "    scaler.transform(train_df),\n",
    "    index = train_df.index,\n",
    "    columns=train_df.columns\n",
    ")\n",
    "train_df.head()"
   ]
  },
  {
   "cell_type": "code",
   "execution_count": 136,
   "metadata": {},
   "outputs": [
    {
     "data": {
      "text/html": [
       "<div>\n",
       "<style scoped>\n",
       "    .dataframe tbody tr th:only-of-type {\n",
       "        vertical-align: middle;\n",
       "    }\n",
       "\n",
       "    .dataframe tbody tr th {\n",
       "        vertical-align: top;\n",
       "    }\n",
       "\n",
       "    .dataframe thead th {\n",
       "        text-align: right;\n",
       "    }\n",
       "</style>\n",
       "<table border=\"1\" class=\"dataframe\">\n",
       "  <thead>\n",
       "    <tr style=\"text-align: right;\">\n",
       "      <th></th>\n",
       "      <th>day_of_week</th>\n",
       "      <th>day_of_month</th>\n",
       "      <th>week_of_year</th>\n",
       "      <th>month</th>\n",
       "      <th>ph</th>\n",
       "      <th>temperature</th>\n",
       "      <th>airflow</th>\n",
       "      <th>dissolved_oxygen</th>\n",
       "      <th>agitator</th>\n",
       "      <th>enzyme_activity</th>\n",
       "    </tr>\n",
       "  </thead>\n",
       "  <tbody>\n",
       "    <tr>\n",
       "      <th>218</th>\n",
       "      <td>1.0</td>\n",
       "      <td>1.0</td>\n",
       "      <td>-1.0</td>\n",
       "      <td>-1.0</td>\n",
       "      <td>0.312719</td>\n",
       "      <td>-0.903508</td>\n",
       "      <td>0.390056</td>\n",
       "      <td>-0.753586</td>\n",
       "      <td>0.499426</td>\n",
       "      <td>1.009898</td>\n",
       "    </tr>\n",
       "    <tr>\n",
       "      <th>219</th>\n",
       "      <td>1.0</td>\n",
       "      <td>1.0</td>\n",
       "      <td>-1.0</td>\n",
       "      <td>-1.0</td>\n",
       "      <td>0.327997</td>\n",
       "      <td>-0.908999</td>\n",
       "      <td>0.453964</td>\n",
       "      <td>-0.801484</td>\n",
       "      <td>0.469596</td>\n",
       "      <td>1.014848</td>\n",
       "    </tr>\n",
       "    <tr>\n",
       "      <th>220</th>\n",
       "      <td>1.0</td>\n",
       "      <td>1.0</td>\n",
       "      <td>-1.0</td>\n",
       "      <td>-1.0</td>\n",
       "      <td>0.302991</td>\n",
       "      <td>-0.906911</td>\n",
       "      <td>0.431983</td>\n",
       "      <td>-0.737984</td>\n",
       "      <td>0.545925</td>\n",
       "      <td>1.019797</td>\n",
       "    </tr>\n",
       "    <tr>\n",
       "      <th>221</th>\n",
       "      <td>1.0</td>\n",
       "      <td>1.0</td>\n",
       "      <td>-1.0</td>\n",
       "      <td>-1.0</td>\n",
       "      <td>0.334062</td>\n",
       "      <td>-0.901419</td>\n",
       "      <td>0.372585</td>\n",
       "      <td>-0.702471</td>\n",
       "      <td>0.579859</td>\n",
       "      <td>1.024746</td>\n",
       "    </tr>\n",
       "    <tr>\n",
       "      <th>222</th>\n",
       "      <td>1.0</td>\n",
       "      <td>1.0</td>\n",
       "      <td>-1.0</td>\n",
       "      <td>-1.0</td>\n",
       "      <td>0.315992</td>\n",
       "      <td>-0.899527</td>\n",
       "      <td>0.381562</td>\n",
       "      <td>-0.802739</td>\n",
       "      <td>0.497066</td>\n",
       "      <td>1.029695</td>\n",
       "    </tr>\n",
       "  </tbody>\n",
       "</table>\n",
       "</div>"
      ],
      "text/plain": [
       "     day_of_week  day_of_month  week_of_year  month        ph  temperature  \\\n",
       "218          1.0           1.0          -1.0   -1.0  0.312719    -0.903508   \n",
       "219          1.0           1.0          -1.0   -1.0  0.327997    -0.908999   \n",
       "220          1.0           1.0          -1.0   -1.0  0.302991    -0.906911   \n",
       "221          1.0           1.0          -1.0   -1.0  0.334062    -0.901419   \n",
       "222          1.0           1.0          -1.0   -1.0  0.315992    -0.899527   \n",
       "\n",
       "      airflow  dissolved_oxygen  agitator  enzyme_activity  \n",
       "218  0.390056         -0.753586  0.499426         1.009898  \n",
       "219  0.453964         -0.801484  0.469596         1.014848  \n",
       "220  0.431983         -0.737984  0.545925         1.019797  \n",
       "221  0.372585         -0.702471  0.579859         1.024746  \n",
       "222  0.381562         -0.802739  0.497066         1.029695  "
      ]
     },
     "execution_count": 136,
     "metadata": {},
     "output_type": "execute_result"
    }
   ],
   "source": [
    "test_df = pd.DataFrame(\n",
    "    scaler.transform(test_df),\n",
    "    index = test_df.index,\n",
    "    columns=test_df.columns\n",
    ")\n",
    "\n",
    "test_df.head()"
   ]
  },
  {
   "cell_type": "code",
   "execution_count": 137,
   "metadata": {},
   "outputs": [],
   "source": [
    "def create_sequences(input_data:pd.DataFrame, target_column, sequence_length):\n",
    "    sequences = []\n",
    "    data_size = len(input_data)\n",
    "    for i in tqdm(range(data_size - sequence_length)):\n",
    "        sequence = input_data[i:i+sequence_length]\n",
    "        label_position = i + sequence_length\n",
    "        label = input_data.iloc[label_position][target_column]\n",
    "        sequences.append((sequence,label))\n",
    "\n",
    "    return sequences"
   ]
  },
  {
   "cell_type": "code",
   "execution_count": 138,
   "metadata": {},
   "outputs": [
    {
     "name": "stderr",
     "output_type": "stream",
     "text": [
      "100%|██████████| 207/207 [00:00<00:00, 10841.11it/s]\n",
      "100%|██████████| 14/14 [00:00<00:00, 14001.01it/s]\n"
     ]
    }
   ],
   "source": [
    "SEQUENCE_LENGTH = 10\n",
    "\n",
    "train_sequences = create_sequences(train_df, 'enzyme_activity', SEQUENCE_LENGTH)\n",
    "test_sequences = create_sequences(test_df, 'enzyme_activity', SEQUENCE_LENGTH)"
   ]
  },
  {
   "cell_type": "code",
   "execution_count": 139,
   "metadata": {},
   "outputs": [],
   "source": [
    "class Fermentation_dataset(Dataset):\n",
    "    def __init__(self,sequences):\n",
    "        self.sequences = sequences\n",
    "    \n",
    "    def __len__(self):\n",
    "        return len(self.sequences)\n",
    "    \n",
    "    def __getitem__(self, idx):\n",
    "        sequence, label = self.sequences[idx]\n",
    "\n",
    "        return dict(\n",
    "            sequence=torch.Tensor(sequence.to_numpy()),\n",
    "            label = torch.tensor(label).float()\n",
    "        )"
   ]
  },
  {
   "cell_type": "code",
   "execution_count": 140,
   "metadata": {},
   "outputs": [],
   "source": [
    "class FermentaionDataModule(pl.LightningDataModule):\n",
    "\n",
    "    def __init__(self, train_sequences, test_sequences, batch_size = 8):\n",
    "        super().__init__()\n",
    "        self.train_sequence = train_sequences\n",
    "        self.test_sequences = test_sequences\n",
    "        self.batch_size = batch_size\n",
    "\n",
    "    def setup(self, stage=None):\n",
    "        self.train_dataset = Fermentation_dataset(self.train_sequence)\n",
    "        self.test_dataset = Fermentation_dataset(self.test_sequences)\n",
    "\n",
    "    def train_dataloader(self):\n",
    "        return DataLoader(\n",
    "            self.train_dataset,\n",
    "            batch_size = self.batch_size,\n",
    "            shuffle = False,\n",
    "            num_workers=0\n",
    "        )\n",
    "    \n",
    "    def val_dataloader(self):\n",
    "        return DataLoader(\n",
    "            self.test_dataset,\n",
    "            batch_size=1,\n",
    "            shuffle=False,\n",
    "            num_workers=0\n",
    "        )\n",
    "\n",
    "    def test_dataloader(self):\n",
    "        return DataLoader(\n",
    "            self.test_dataset,\n",
    "            batch_size=1,\n",
    "            shuffle=False,\n",
    "            num_workers=0\n",
    "        )   "
   ]
  },
  {
   "cell_type": "code",
   "execution_count": 141,
   "metadata": {},
   "outputs": [
    {
     "name": "stdout",
     "output_type": "stream",
     "text": [
      "torch.Size([16, 10, 10])\n",
      "torch.Size([16])\n"
     ]
    }
   ],
   "source": [
    "N_EPOCHS = 10\n",
    "BATCH_SIZE = 16\n",
    "\n",
    "data_module = FermentaionDataModule(train_sequences, test_sequences, batch_size=BATCH_SIZE)\n",
    "data_module.setup()\n",
    "\n",
    "for i in data_module.train_dataloader():\n",
    "    print(i['sequence'].shape)\n",
    "    print(i['label'].shape)\n",
    "    break"
   ]
  },
  {
   "cell_type": "code",
   "execution_count": 142,
   "metadata": {},
   "outputs": [],
   "source": [
    "class EnzymePredictionModel(nn.Module):\n",
    "\n",
    "    def __init__(self, n_features, n_hidden=128, n_layers=2):\n",
    "        super().__init__()\n",
    "\n",
    "        self.n_hidden = n_hidden\n",
    "        self.lstm = nn.LSTM(\n",
    "            input_size = n_features,\n",
    "            hidden_size = n_hidden,\n",
    "            batch_first = True, \n",
    "            num_layers = n_layers,\n",
    "            dropout = 0.2\n",
    "        )\n",
    "\n",
    "        self.regressor = nn.Linear(n_hidden, 1)\n",
    "\n",
    "\n",
    "    def forward(self, x):\n",
    "        self.lstm.flatten_parameters()\n",
    "\n",
    "        _, (hidden, _) = self.lstm(x)\n",
    "        out = hidden[-1]\n",
    "\n",
    "        return self.regressor(out)"
   ]
  },
  {
   "cell_type": "code",
   "execution_count": 143,
   "metadata": {},
   "outputs": [],
   "source": [
    "class EnzymePredictor(pl.LightningModule):\n",
    "\n",
    "    def __init__(self, n_features: int):\n",
    "        super().__init__()\n",
    "\n",
    "        self.model = EnzymePredictionModel(n_features)\n",
    "        self.criterion = nn.MSELoss()\n",
    "\n",
    "    def forward(self, x, labels=None):\n",
    "        output = self.model(x)\n",
    "        loss = 0\n",
    "\n",
    "        if labels is not None:\n",
    "            loss = self.criterion(output, labels.unsqueeze(dim=1))\n",
    "\n",
    "        return loss, output\n",
    "\n",
    "    def training_step(self, batch, batch_idx):\n",
    "        sequences = batch[\"sequence\"]\n",
    "        labels = batch[\"label\"]\n",
    "\n",
    "        loss, outputs = self(sequences, labels)\n",
    "        self.log(\"train_loss\", loss, prog_bar = True, logger = True)\n",
    "        return loss\n",
    "    \n",
    "    def validation_step(self, batch, batch_idx):\n",
    "        sequences = batch[\"sequence\"]\n",
    "        labels = batch[\"label\"]\n",
    "\n",
    "        loss, outputs = self(sequences, labels)\n",
    "        self.log(\"validation_loss\", loss, prog_bar = True, logger = True)\n",
    "        return loss\n",
    "    \n",
    "    def test_step(self, batch, batch_idx):\n",
    "        sequences = batch[\"sequence\"]\n",
    "        labels = batch[\"label\"]\n",
    "\n",
    "        loss, outputs = self(sequences, labels)\n",
    "        self.log(\"test_loss\", loss, prog_bar = True, logger = True)\n",
    "        return loss\n",
    "    \n",
    "    def configure_optimizers(self):\n",
    "        return optim.AdamW(self.parameters(), lr=0.0001)"
   ]
  },
  {
   "cell_type": "code",
   "execution_count": 144,
   "metadata": {},
   "outputs": [
    {
     "name": "stdout",
     "output_type": "stream",
     "text": [
      "10\n"
     ]
    }
   ],
   "source": [
    "print(train_df.shape[1])\n",
    "model = EnzymePredictor(n_features=train_df.shape[1])"
   ]
  },
  {
   "cell_type": "code",
   "execution_count": 145,
   "metadata": {},
   "outputs": [
    {
     "name": "stderr",
     "output_type": "stream",
     "text": [
      "GPU available: False, used: False\n",
      "TPU available: False, using: 0 TPU cores\n",
      "IPU available: False, using: 0 IPUs\n",
      "HPU available: False, using: 0 HPUs\n"
     ]
    }
   ],
   "source": [
    "checkpoint_callback = ModelCheckpoint(\n",
    "    dirpath = 'checkpoints',\n",
    "    filename='best-checkpoint',\n",
    "    save_top_k= 1,\n",
    "    verbose=True,\n",
    "    monitor='validation_loss',\n",
    "    mode = 'min'\n",
    ")\n",
    "\n",
    "logger = TensorBoardLogger('lightning_logs', name='btc-price')\n",
    "\n",
    "early_stopping_callback = EarlyStopping(monitor='validation_loss', patience=20)\n",
    "\n",
    "\n",
    "trainer = pl.Trainer(\n",
    "    logger = logger,\n",
    "    callbacks=[checkpoint_callback],\n",
    "    max_epochs= N_EPOCHS,\n",
    "    enable_progress_bar=True,\n",
    "    num_sanity_val_steps=1\n",
    ")"
   ]
  },
  {
   "cell_type": "code",
   "execution_count": 146,
   "metadata": {},
   "outputs": [
    {
     "name": "stderr",
     "output_type": "stream",
     "text": [
      "c:\\Users\\HRUT\\AppData\\Local\\anaconda3\\envs\\forecasting\\lib\\site-packages\\pytorch_lightning\\callbacks\\model_checkpoint.py:615: UserWarning: Checkpoint directory C:\\Users\\HRUT\\OneDrive - Novozymes A S\\Desktop\\mtf\\checkpoints exists and is not empty.\n",
      "  rank_zero_warn(f\"Checkpoint directory {dirpath} exists and is not empty.\")\n",
      "\n",
      "  | Name      | Type                  | Params\n",
      "----------------------------------------------------\n",
      "0 | model     | EnzymePredictionModel | 203 K \n",
      "1 | criterion | MSELoss               | 0     \n",
      "----------------------------------------------------\n",
      "203 K     Trainable params\n",
      "0         Non-trainable params\n",
      "203 K     Total params\n",
      "0.816     Total estimated model params size (MB)\n"
     ]
    },
    {
     "name": "stdout",
     "output_type": "stream",
     "text": [
      "                                                                            "
     ]
    },
    {
     "name": "stderr",
     "output_type": "stream",
     "text": [
      "c:\\Users\\HRUT\\AppData\\Local\\anaconda3\\envs\\forecasting\\lib\\site-packages\\pytorch_lightning\\trainer\\connectors\\data_connector.py:432: PossibleUserWarning: The dataloader, val_dataloader, does not have many workers which may be a bottleneck. Consider increasing the value of the `num_workers` argument` (try 12 which is the number of cpus on this machine) in the `DataLoader` init to improve performance.\n",
      "  rank_zero_warn(\n",
      "c:\\Users\\HRUT\\AppData\\Local\\anaconda3\\envs\\forecasting\\lib\\site-packages\\pytorch_lightning\\trainer\\connectors\\data_connector.py:432: PossibleUserWarning: The dataloader, train_dataloader, does not have many workers which may be a bottleneck. Consider increasing the value of the `num_workers` argument` (try 12 which is the number of cpus on this machine) in the `DataLoader` init to improve performance.\n",
      "  rank_zero_warn(\n",
      "c:\\Users\\HRUT\\AppData\\Local\\anaconda3\\envs\\forecasting\\lib\\site-packages\\pytorch_lightning\\loops\\fit_loop.py:280: PossibleUserWarning: The number of training batches (13) is smaller than the logging interval Trainer(log_every_n_steps=50). Set a lower value for log_every_n_steps if you want to see logs for the training epoch.\n",
      "  rank_zero_warn(\n"
     ]
    },
    {
     "name": "stdout",
     "output_type": "stream",
     "text": [
      "Epoch 0: 100%|██████████| 13/13 [00:00<00:00, 38.98it/s, v_num=13, train_loss=1.150, validation_loss=1.450]"
     ]
    },
    {
     "name": "stderr",
     "output_type": "stream",
     "text": [
      "Epoch 0, global step 13: 'validation_loss' reached 1.44566 (best 1.44566), saving model to 'C:\\\\Users\\\\HRUT\\\\OneDrive - Novozymes A S\\\\Desktop\\\\mtf\\\\checkpoints\\\\best-checkpoint-v10.ckpt' as top 1\n"
     ]
    },
    {
     "name": "stdout",
     "output_type": "stream",
     "text": [
      "Epoch 1: 100%|██████████| 13/13 [00:00<00:00, 36.31it/s, v_num=13, train_loss=1.080, validation_loss=1.360] "
     ]
    },
    {
     "name": "stderr",
     "output_type": "stream",
     "text": [
      "Epoch 1, global step 26: 'validation_loss' reached 1.36183 (best 1.36183), saving model to 'C:\\\\Users\\\\HRUT\\\\OneDrive - Novozymes A S\\\\Desktop\\\\mtf\\\\checkpoints\\\\best-checkpoint-v10.ckpt' as top 1\n"
     ]
    },
    {
     "name": "stdout",
     "output_type": "stream",
     "text": [
      "Epoch 2: 100%|██████████| 13/13 [00:00<00:00, 36.73it/s, v_num=13, train_loss=1.010, validation_loss=1.280] "
     ]
    },
    {
     "name": "stderr",
     "output_type": "stream",
     "text": [
      "Epoch 2, global step 39: 'validation_loss' reached 1.27507 (best 1.27507), saving model to 'C:\\\\Users\\\\HRUT\\\\OneDrive - Novozymes A S\\\\Desktop\\\\mtf\\\\checkpoints\\\\best-checkpoint-v10.ckpt' as top 1\n"
     ]
    },
    {
     "name": "stdout",
     "output_type": "stream",
     "text": [
      "Epoch 3: 100%|██████████| 13/13 [00:00<00:00, 38.64it/s, v_num=13, train_loss=0.925, validation_loss=1.180] "
     ]
    },
    {
     "name": "stderr",
     "output_type": "stream",
     "text": [
      "Epoch 3, global step 52: 'validation_loss' reached 1.18174 (best 1.18174), saving model to 'C:\\\\Users\\\\HRUT\\\\OneDrive - Novozymes A S\\\\Desktop\\\\mtf\\\\checkpoints\\\\best-checkpoint-v10.ckpt' as top 1\n"
     ]
    },
    {
     "name": "stdout",
     "output_type": "stream",
     "text": [
      "Epoch 4: 100%|██████████| 13/13 [00:00<00:00, 39.37it/s, v_num=13, train_loss=0.840, validation_loss=1.070] "
     ]
    },
    {
     "name": "stderr",
     "output_type": "stream",
     "text": [
      "Epoch 4, global step 65: 'validation_loss' reached 1.07343 (best 1.07343), saving model to 'C:\\\\Users\\\\HRUT\\\\OneDrive - Novozymes A S\\\\Desktop\\\\mtf\\\\checkpoints\\\\best-checkpoint-v10.ckpt' as top 1\n"
     ]
    },
    {
     "name": "stdout",
     "output_type": "stream",
     "text": [
      "Epoch 5: 100%|██████████| 13/13 [00:00<00:00, 40.40it/s, v_num=13, train_loss=0.733, validation_loss=0.940] "
     ]
    },
    {
     "name": "stderr",
     "output_type": "stream",
     "text": [
      "Epoch 5, global step 78: 'validation_loss' reached 0.93977 (best 0.93977), saving model to 'C:\\\\Users\\\\HRUT\\\\OneDrive - Novozymes A S\\\\Desktop\\\\mtf\\\\checkpoints\\\\best-checkpoint-v10.ckpt' as top 1\n"
     ]
    },
    {
     "name": "stdout",
     "output_type": "stream",
     "text": [
      "Epoch 6: 100%|██████████| 13/13 [00:00<00:00, 40.39it/s, v_num=13, train_loss=0.601, validation_loss=0.768] "
     ]
    },
    {
     "name": "stderr",
     "output_type": "stream",
     "text": [
      "Epoch 6, global step 91: 'validation_loss' reached 0.76821 (best 0.76821), saving model to 'C:\\\\Users\\\\HRUT\\\\OneDrive - Novozymes A S\\\\Desktop\\\\mtf\\\\checkpoints\\\\best-checkpoint-v10.ckpt' as top 1\n"
     ]
    },
    {
     "name": "stdout",
     "output_type": "stream",
     "text": [
      "Epoch 7: 100%|██████████| 13/13 [00:00<00:00, 39.49it/s, v_num=13, train_loss=0.437, validation_loss=0.550] "
     ]
    },
    {
     "name": "stderr",
     "output_type": "stream",
     "text": [
      "Epoch 7, global step 104: 'validation_loss' reached 0.55011 (best 0.55011), saving model to 'C:\\\\Users\\\\HRUT\\\\OneDrive - Novozymes A S\\\\Desktop\\\\mtf\\\\checkpoints\\\\best-checkpoint-v10.ckpt' as top 1\n"
     ]
    },
    {
     "name": "stdout",
     "output_type": "stream",
     "text": [
      "Epoch 8: 100%|██████████| 13/13 [00:00<00:00, 33.58it/s, v_num=13, train_loss=0.249, validation_loss=0.303]  "
     ]
    },
    {
     "name": "stderr",
     "output_type": "stream",
     "text": [
      "Epoch 8, global step 117: 'validation_loss' reached 0.30278 (best 0.30278), saving model to 'C:\\\\Users\\\\HRUT\\\\OneDrive - Novozymes A S\\\\Desktop\\\\mtf\\\\checkpoints\\\\best-checkpoint-v10.ckpt' as top 1\n"
     ]
    },
    {
     "name": "stdout",
     "output_type": "stream",
     "text": [
      "Epoch 9: 100%|██████████| 13/13 [00:00<00:00, 48.31it/s, v_num=13, train_loss=0.0875, validation_loss=0.102]"
     ]
    },
    {
     "name": "stderr",
     "output_type": "stream",
     "text": [
      "Epoch 9, global step 130: 'validation_loss' reached 0.10206 (best 0.10206), saving model to 'C:\\\\Users\\\\HRUT\\\\OneDrive - Novozymes A S\\\\Desktop\\\\mtf\\\\checkpoints\\\\best-checkpoint-v10.ckpt' as top 1\n",
      "`Trainer.fit` stopped: `max_epochs=10` reached.\n"
     ]
    },
    {
     "name": "stdout",
     "output_type": "stream",
     "text": [
      "Epoch 9: 100%|██████████| 13/13 [00:00<00:00, 44.06it/s, v_num=13, train_loss=0.0875, validation_loss=0.102]\n"
     ]
    }
   ],
   "source": [
    "trainer.fit(model, data_module)"
   ]
  },
  {
   "cell_type": "code",
   "execution_count": 147,
   "metadata": {},
   "outputs": [],
   "source": [
    "trained_model = EnzymePredictor.load_from_checkpoint(\"checkpoints/best-checkpoint.ckpt\", n_features= train_df.shape[1] )\n",
    "\n",
    "trained_model.freeze()"
   ]
  },
  {
   "cell_type": "code",
   "execution_count": 148,
   "metadata": {},
   "outputs": [
    {
     "name": "stderr",
     "output_type": "stream",
     "text": [
      "100%|██████████| 14/14 [00:00<00:00, 1076.84it/s]\n"
     ]
    }
   ],
   "source": [
    "test_dataset = Fermentation_dataset(test_sequences)\n",
    "predictions = []\n",
    "labels = []\n",
    "\n",
    "for item in tqdm(test_dataset):\n",
    "    sequence = item['sequence']\n",
    "    label = item['label']\n",
    "\n",
    "    _, output = trained_model(sequence.unsqueeze(dim=0))\n",
    "    predictions.append(output.item())\n",
    "    labels.append(label.item())\n"
   ]
  },
  {
   "cell_type": "code",
   "execution_count": 149,
   "metadata": {},
   "outputs": [
    {
     "data": {
      "text/plain": [
       "(14, 24)"
      ]
     },
     "execution_count": 149,
     "metadata": {},
     "output_type": "execute_result"
    }
   ],
   "source": [
    "len(predictions), len(test_df)"
   ]
  },
  {
   "cell_type": "code",
   "execution_count": 150,
   "metadata": {},
   "outputs": [
    {
     "data": {
      "text/plain": [
       "14"
      ]
     },
     "execution_count": 150,
     "metadata": {},
     "output_type": "execute_result"
    }
   ],
   "source": [
    "len(test_df) - SEQUENCE_LENGTH"
   ]
  },
  {
   "cell_type": "code",
   "execution_count": 151,
   "metadata": {},
   "outputs": [
    {
     "data": {
      "text/html": [
       "<div>\n",
       "<style scoped>\n",
       "    .dataframe tbody tr th:only-of-type {\n",
       "        vertical-align: middle;\n",
       "    }\n",
       "\n",
       "    .dataframe tbody tr th {\n",
       "        vertical-align: top;\n",
       "    }\n",
       "\n",
       "    .dataframe thead th {\n",
       "        text-align: right;\n",
       "    }\n",
       "</style>\n",
       "<table border=\"1\" class=\"dataframe\">\n",
       "  <thead>\n",
       "    <tr style=\"text-align: right;\">\n",
       "      <th></th>\n",
       "      <th>day_of_week</th>\n",
       "      <th>day_of_month</th>\n",
       "      <th>week_of_year</th>\n",
       "      <th>month</th>\n",
       "      <th>ph</th>\n",
       "      <th>temperature</th>\n",
       "      <th>airflow</th>\n",
       "      <th>dissolved_oxygen</th>\n",
       "      <th>agitator</th>\n",
       "      <th>enzyme_activity</th>\n",
       "    </tr>\n",
       "  </thead>\n",
       "  <tbody>\n",
       "    <tr>\n",
       "      <th>218</th>\n",
       "      <td>1.0</td>\n",
       "      <td>1.0</td>\n",
       "      <td>-1.0</td>\n",
       "      <td>-1.0</td>\n",
       "      <td>0.312719</td>\n",
       "      <td>-0.903508</td>\n",
       "      <td>0.390056</td>\n",
       "      <td>-0.753586</td>\n",
       "      <td>0.499426</td>\n",
       "      <td>1.009898</td>\n",
       "    </tr>\n",
       "    <tr>\n",
       "      <th>219</th>\n",
       "      <td>1.0</td>\n",
       "      <td>1.0</td>\n",
       "      <td>-1.0</td>\n",
       "      <td>-1.0</td>\n",
       "      <td>0.327997</td>\n",
       "      <td>-0.908999</td>\n",
       "      <td>0.453964</td>\n",
       "      <td>-0.801484</td>\n",
       "      <td>0.469596</td>\n",
       "      <td>1.014848</td>\n",
       "    </tr>\n",
       "    <tr>\n",
       "      <th>220</th>\n",
       "      <td>1.0</td>\n",
       "      <td>1.0</td>\n",
       "      <td>-1.0</td>\n",
       "      <td>-1.0</td>\n",
       "      <td>0.302991</td>\n",
       "      <td>-0.906911</td>\n",
       "      <td>0.431983</td>\n",
       "      <td>-0.737984</td>\n",
       "      <td>0.545925</td>\n",
       "      <td>1.019797</td>\n",
       "    </tr>\n",
       "    <tr>\n",
       "      <th>221</th>\n",
       "      <td>1.0</td>\n",
       "      <td>1.0</td>\n",
       "      <td>-1.0</td>\n",
       "      <td>-1.0</td>\n",
       "      <td>0.334062</td>\n",
       "      <td>-0.901419</td>\n",
       "      <td>0.372585</td>\n",
       "      <td>-0.702471</td>\n",
       "      <td>0.579859</td>\n",
       "      <td>1.024746</td>\n",
       "    </tr>\n",
       "    <tr>\n",
       "      <th>222</th>\n",
       "      <td>1.0</td>\n",
       "      <td>1.0</td>\n",
       "      <td>-1.0</td>\n",
       "      <td>-1.0</td>\n",
       "      <td>0.315992</td>\n",
       "      <td>-0.899527</td>\n",
       "      <td>0.381562</td>\n",
       "      <td>-0.802739</td>\n",
       "      <td>0.497066</td>\n",
       "      <td>1.029695</td>\n",
       "    </tr>\n",
       "  </tbody>\n",
       "</table>\n",
       "</div>"
      ],
      "text/plain": [
       "     day_of_week  day_of_month  week_of_year  month        ph  temperature  \\\n",
       "218          1.0           1.0          -1.0   -1.0  0.312719    -0.903508   \n",
       "219          1.0           1.0          -1.0   -1.0  0.327997    -0.908999   \n",
       "220          1.0           1.0          -1.0   -1.0  0.302991    -0.906911   \n",
       "221          1.0           1.0          -1.0   -1.0  0.334062    -0.901419   \n",
       "222          1.0           1.0          -1.0   -1.0  0.315992    -0.899527   \n",
       "\n",
       "      airflow  dissolved_oxygen  agitator  enzyme_activity  \n",
       "218  0.390056         -0.753586  0.499426         1.009898  \n",
       "219  0.453964         -0.801484  0.469596         1.014848  \n",
       "220  0.431983         -0.737984  0.545925         1.019797  \n",
       "221  0.372585         -0.702471  0.579859         1.024746  \n",
       "222  0.381562         -0.802739  0.497066         1.029695  "
      ]
     },
     "execution_count": 151,
     "metadata": {},
     "output_type": "execute_result"
    }
   ],
   "source": [
    "test_df.head()"
   ]
  },
  {
   "cell_type": "code",
   "execution_count": 152,
   "metadata": {},
   "outputs": [],
   "source": [
    "descaler = MinMaxScaler()\n",
    "descaler.min_ , descaler.scale_ = scaler.min_[-1], scaler.scale_[-1]"
   ]
  },
  {
   "cell_type": "code",
   "execution_count": 153,
   "metadata": {},
   "outputs": [],
   "source": [
    "def descale(descaler, values):\n",
    "    values_2d = np.array(values)[:, np.newaxis]\n",
    "    return descaler.inverse_transform(values_2d).flatten()"
   ]
  },
  {
   "cell_type": "code",
   "execution_count": 154,
   "metadata": {},
   "outputs": [],
   "source": [
    "predictions_descaled = descale(descaler, predictions)\n",
    "labels_descaled = descale(descaler, labels)"
   ]
  },
  {
   "cell_type": "code",
   "execution_count": 155,
   "metadata": {},
   "outputs": [
    {
     "data": {
      "text/plain": [
       "(24, 24)"
      ]
     },
     "execution_count": 155,
     "metadata": {},
     "output_type": "execute_result"
    }
   ],
   "source": [
    "test_data = df[training_size + 1 :]\n",
    "len(test_data), len(test_df)"
   ]
  },
  {
   "cell_type": "code",
   "execution_count": 156,
   "metadata": {},
   "outputs": [
    {
     "data": {
      "text/plain": [
       "(14, 14)"
      ]
     },
     "execution_count": 156,
     "metadata": {},
     "output_type": "execute_result"
    }
   ],
   "source": [
    "test_sequences_data = test_data.iloc[SEQUENCE_LENGTH:]\n",
    "len(test_sequences_data), len(test_sequences)"
   ]
  },
  {
   "cell_type": "code",
   "execution_count": 157,
   "metadata": {},
   "outputs": [
    {
     "data": {
      "text/html": [
       "<div>\n",
       "<style scoped>\n",
       "    .dataframe tbody tr th:only-of-type {\n",
       "        vertical-align: middle;\n",
       "    }\n",
       "\n",
       "    .dataframe tbody tr th {\n",
       "        vertical-align: top;\n",
       "    }\n",
       "\n",
       "    .dataframe thead th {\n",
       "        text-align: right;\n",
       "    }\n",
       "</style>\n",
       "<table border=\"1\" class=\"dataframe\">\n",
       "  <thead>\n",
       "    <tr style=\"text-align: right;\">\n",
       "      <th></th>\n",
       "      <th>Batch</th>\n",
       "      <th>TimeStamp</th>\n",
       "      <th>Main Fermentor's Unit</th>\n",
       "      <th>Main Fermentor's Phase</th>\n",
       "      <th>Main Fermentor's Hours</th>\n",
       "      <th>pH-M [Main Fermentor]</th>\n",
       "      <th>Temperature-M [Main Fermentor]</th>\n",
       "      <th>AirFlow-M [Main Fermentor]</th>\n",
       "      <th>DO-M [Main Fermentor]</th>\n",
       "      <th>AgitatorSpeed-M [Main Fermentor]</th>\n",
       "      <th>PA-MÎ¨ [Main Fermentor]</th>\n",
       "    </tr>\n",
       "  </thead>\n",
       "  <tbody>\n",
       "    <tr>\n",
       "      <th>228</th>\n",
       "      <td>PBX0086</td>\n",
       "      <td>2021-08-14 12:29:00</td>\n",
       "      <td>30M-MainF (FFN)</td>\n",
       "      <td>Fermentation</td>\n",
       "      <td>114.0000</td>\n",
       "      <td>7.240450</td>\n",
       "      <td>30.270784</td>\n",
       "      <td>59.303455</td>\n",
       "      <td>21.970646</td>\n",
       "      <td>86.903122</td>\n",
       "      <td>25.503225</td>\n",
       "    </tr>\n",
       "    <tr>\n",
       "      <th>229</th>\n",
       "      <td>PBX0086</td>\n",
       "      <td>2021-08-14 12:59:00</td>\n",
       "      <td>30M-MainF (FFN)</td>\n",
       "      <td>Fermentation</td>\n",
       "      <td>114.5000</td>\n",
       "      <td>7.223163</td>\n",
       "      <td>30.247158</td>\n",
       "      <td>56.693062</td>\n",
       "      <td>18.484898</td>\n",
       "      <td>85.706749</td>\n",
       "      <td>25.564516</td>\n",
       "    </tr>\n",
       "    <tr>\n",
       "      <th>230</th>\n",
       "      <td>PBX0086</td>\n",
       "      <td>2021-08-14 13:29:00</td>\n",
       "      <td>30M-MainF (FFN)</td>\n",
       "      <td>Fermentation</td>\n",
       "      <td>115.0000</td>\n",
       "      <td>7.222640</td>\n",
       "      <td>30.235752</td>\n",
       "      <td>58.993076</td>\n",
       "      <td>17.348991</td>\n",
       "      <td>86.497513</td>\n",
       "      <td>25.625806</td>\n",
       "    </tr>\n",
       "    <tr>\n",
       "      <th>231</th>\n",
       "      <td>PBX0086</td>\n",
       "      <td>2021-08-14 13:59:00</td>\n",
       "      <td>30M-MainF (FFN)</td>\n",
       "      <td>Fermentation</td>\n",
       "      <td>115.5000</td>\n",
       "      <td>7.236052</td>\n",
       "      <td>30.235752</td>\n",
       "      <td>58.907616</td>\n",
       "      <td>25.878056</td>\n",
       "      <td>84.485840</td>\n",
       "      <td>25.687096</td>\n",
       "    </tr>\n",
       "    <tr>\n",
       "      <th>232</th>\n",
       "      <td>PBX0086</td>\n",
       "      <td>2021-08-14 14:29:00</td>\n",
       "      <td>30M-MainF (FFN)</td>\n",
       "      <td>Fermentation</td>\n",
       "      <td>116.0000</td>\n",
       "      <td>7.229375</td>\n",
       "      <td>30.247158</td>\n",
       "      <td>59.041195</td>\n",
       "      <td>24.093956</td>\n",
       "      <td>87.275871</td>\n",
       "      <td>25.748386</td>\n",
       "    </tr>\n",
       "    <tr>\n",
       "      <th>233</th>\n",
       "      <td>PBX0086</td>\n",
       "      <td>2021-08-14 14:59:00</td>\n",
       "      <td>30M-MainF (FFN)</td>\n",
       "      <td>Fermentation</td>\n",
       "      <td>116.5000</td>\n",
       "      <td>7.240545</td>\n",
       "      <td>30.270784</td>\n",
       "      <td>59.254147</td>\n",
       "      <td>16.853601</td>\n",
       "      <td>86.126419</td>\n",
       "      <td>25.809677</td>\n",
       "    </tr>\n",
       "    <tr>\n",
       "      <th>234</th>\n",
       "      <td>PBX0086</td>\n",
       "      <td>2021-08-14 15:29:00</td>\n",
       "      <td>30M-MainF (FFN)</td>\n",
       "      <td>Fermentation</td>\n",
       "      <td>117.0000</td>\n",
       "      <td>7.228661</td>\n",
       "      <td>30.273228</td>\n",
       "      <td>59.251396</td>\n",
       "      <td>24.040520</td>\n",
       "      <td>86.620003</td>\n",
       "      <td>25.870967</td>\n",
       "    </tr>\n",
       "    <tr>\n",
       "      <th>235</th>\n",
       "      <td>PBX0086</td>\n",
       "      <td>2021-08-14 15:59:00</td>\n",
       "      <td>30M-MainF (FFN)</td>\n",
       "      <td>Fermentation</td>\n",
       "      <td>117.5000</td>\n",
       "      <td>7.210981</td>\n",
       "      <td>30.249609</td>\n",
       "      <td>58.634285</td>\n",
       "      <td>25.157997</td>\n",
       "      <td>86.648949</td>\n",
       "      <td>25.932257</td>\n",
       "    </tr>\n",
       "    <tr>\n",
       "      <th>236</th>\n",
       "      <td>PBX0086</td>\n",
       "      <td>2021-08-14 16:29:00</td>\n",
       "      <td>30M-MainF (FFN)</td>\n",
       "      <td>Fermentation</td>\n",
       "      <td>118.0000</td>\n",
       "      <td>7.223163</td>\n",
       "      <td>30.235752</td>\n",
       "      <td>59.800526</td>\n",
       "      <td>23.143524</td>\n",
       "      <td>86.342979</td>\n",
       "      <td>25.993548</td>\n",
       "    </tr>\n",
       "    <tr>\n",
       "      <th>237</th>\n",
       "      <td>PBX0086</td>\n",
       "      <td>2021-08-14 16:59:00</td>\n",
       "      <td>30M-MainF (FFN)</td>\n",
       "      <td>Fermentation</td>\n",
       "      <td>118.5000</td>\n",
       "      <td>7.236203</td>\n",
       "      <td>30.235752</td>\n",
       "      <td>59.098087</td>\n",
       "      <td>19.362829</td>\n",
       "      <td>87.520332</td>\n",
       "      <td>26.054838</td>\n",
       "    </tr>\n",
       "    <tr>\n",
       "      <th>238</th>\n",
       "      <td>PBX0086</td>\n",
       "      <td>2021-08-14 17:29:00</td>\n",
       "      <td>30M-MainF (FFN)</td>\n",
       "      <td>Fermentation</td>\n",
       "      <td>119.0000</td>\n",
       "      <td>7.226877</td>\n",
       "      <td>30.235752</td>\n",
       "      <td>58.748810</td>\n",
       "      <td>19.703136</td>\n",
       "      <td>84.560921</td>\n",
       "      <td>26.116128</td>\n",
       "    </tr>\n",
       "    <tr>\n",
       "      <th>239</th>\n",
       "      <td>PBX0086</td>\n",
       "      <td>2021-08-14 17:59:00</td>\n",
       "      <td>30M-MainF (FFN)</td>\n",
       "      <td>Fermentation</td>\n",
       "      <td>119.5000</td>\n",
       "      <td>7.228476</td>\n",
       "      <td>30.235752</td>\n",
       "      <td>58.126873</td>\n",
       "      <td>18.815622</td>\n",
       "      <td>88.023735</td>\n",
       "      <td>26.177418</td>\n",
       "    </tr>\n",
       "    <tr>\n",
       "      <th>240</th>\n",
       "      <td>PBX0086</td>\n",
       "      <td>2021-08-14 18:29:00</td>\n",
       "      <td>30M-MainF (FFN)</td>\n",
       "      <td>Fermentation</td>\n",
       "      <td>120.0000</td>\n",
       "      <td>7.222972</td>\n",
       "      <td>30.402494</td>\n",
       "      <td>58.362244</td>\n",
       "      <td>14.078028</td>\n",
       "      <td>86.560051</td>\n",
       "      <td>26.238709</td>\n",
       "    </tr>\n",
       "    <tr>\n",
       "      <th>241</th>\n",
       "      <td>PBX0086</td>\n",
       "      <td>2021-08-14 18:43:00</td>\n",
       "      <td>30M-MainF (FFN)</td>\n",
       "      <td>Fermentation</td>\n",
       "      <td>120.2194</td>\n",
       "      <td>7.233249</td>\n",
       "      <td>30.614275</td>\n",
       "      <td>56.999146</td>\n",
       "      <td>21.460022</td>\n",
       "      <td>85.554283</td>\n",
       "      <td>26.299999</td>\n",
       "    </tr>\n",
       "  </tbody>\n",
       "</table>\n",
       "</div>"
      ],
      "text/plain": [
       "       Batch           TimeStamp Main Fermentor's Unit Main Fermentor's Phase  \\\n",
       "228  PBX0086 2021-08-14 12:29:00       30M-MainF (FFN)           Fermentation   \n",
       "229  PBX0086 2021-08-14 12:59:00       30M-MainF (FFN)           Fermentation   \n",
       "230  PBX0086 2021-08-14 13:29:00       30M-MainF (FFN)           Fermentation   \n",
       "231  PBX0086 2021-08-14 13:59:00       30M-MainF (FFN)           Fermentation   \n",
       "232  PBX0086 2021-08-14 14:29:00       30M-MainF (FFN)           Fermentation   \n",
       "233  PBX0086 2021-08-14 14:59:00       30M-MainF (FFN)           Fermentation   \n",
       "234  PBX0086 2021-08-14 15:29:00       30M-MainF (FFN)           Fermentation   \n",
       "235  PBX0086 2021-08-14 15:59:00       30M-MainF (FFN)           Fermentation   \n",
       "236  PBX0086 2021-08-14 16:29:00       30M-MainF (FFN)           Fermentation   \n",
       "237  PBX0086 2021-08-14 16:59:00       30M-MainF (FFN)           Fermentation   \n",
       "238  PBX0086 2021-08-14 17:29:00       30M-MainF (FFN)           Fermentation   \n",
       "239  PBX0086 2021-08-14 17:59:00       30M-MainF (FFN)           Fermentation   \n",
       "240  PBX0086 2021-08-14 18:29:00       30M-MainF (FFN)           Fermentation   \n",
       "241  PBX0086 2021-08-14 18:43:00       30M-MainF (FFN)           Fermentation   \n",
       "\n",
       "     Main Fermentor's Hours  pH-M [Main Fermentor]  \\\n",
       "228                114.0000               7.240450   \n",
       "229                114.5000               7.223163   \n",
       "230                115.0000               7.222640   \n",
       "231                115.5000               7.236052   \n",
       "232                116.0000               7.229375   \n",
       "233                116.5000               7.240545   \n",
       "234                117.0000               7.228661   \n",
       "235                117.5000               7.210981   \n",
       "236                118.0000               7.223163   \n",
       "237                118.5000               7.236203   \n",
       "238                119.0000               7.226877   \n",
       "239                119.5000               7.228476   \n",
       "240                120.0000               7.222972   \n",
       "241                120.2194               7.233249   \n",
       "\n",
       "     Temperature-M [Main Fermentor]  AirFlow-M [Main Fermentor]  \\\n",
       "228                       30.270784                   59.303455   \n",
       "229                       30.247158                   56.693062   \n",
       "230                       30.235752                   58.993076   \n",
       "231                       30.235752                   58.907616   \n",
       "232                       30.247158                   59.041195   \n",
       "233                       30.270784                   59.254147   \n",
       "234                       30.273228                   59.251396   \n",
       "235                       30.249609                   58.634285   \n",
       "236                       30.235752                   59.800526   \n",
       "237                       30.235752                   59.098087   \n",
       "238                       30.235752                   58.748810   \n",
       "239                       30.235752                   58.126873   \n",
       "240                       30.402494                   58.362244   \n",
       "241                       30.614275                   56.999146   \n",
       "\n",
       "     DO-M [Main Fermentor]  AgitatorSpeed-M [Main Fermentor]  \\\n",
       "228              21.970646                         86.903122   \n",
       "229              18.484898                         85.706749   \n",
       "230              17.348991                         86.497513   \n",
       "231              25.878056                         84.485840   \n",
       "232              24.093956                         87.275871   \n",
       "233              16.853601                         86.126419   \n",
       "234              24.040520                         86.620003   \n",
       "235              25.157997                         86.648949   \n",
       "236              23.143524                         86.342979   \n",
       "237              19.362829                         87.520332   \n",
       "238              19.703136                         84.560921   \n",
       "239              18.815622                         88.023735   \n",
       "240              14.078028                         86.560051   \n",
       "241              21.460022                         85.554283   \n",
       "\n",
       "     PA-MÎ¨ [Main Fermentor]  \n",
       "228                25.503225  \n",
       "229                25.564516  \n",
       "230                25.625806  \n",
       "231                25.687096  \n",
       "232                25.748386  \n",
       "233                25.809677  \n",
       "234                25.870967  \n",
       "235                25.932257  \n",
       "236                25.993548  \n",
       "237                26.054838  \n",
       "238                26.116128  \n",
       "239                26.177418  \n",
       "240                26.238709  \n",
       "241                26.299999  "
      ]
     },
     "execution_count": 157,
     "metadata": {},
     "output_type": "execute_result"
    }
   ],
   "source": [
    "test_sequences_data"
   ]
  },
  {
   "cell_type": "code",
   "execution_count": 158,
   "metadata": {},
   "outputs": [
    {
     "data": {
      "text/plain": [
       "<matplotlib.legend.Legend at 0x1c304ba2580>"
      ]
     },
     "execution_count": 158,
     "metadata": {},
     "output_type": "execute_result"
    },
    {
     "data": {
      "image/png": "[encoded data removed]",
      "text/plain": [
       "<Figure size 640x480 with 1 Axes>"
      ]
     },
     "metadata": {},
     "output_type": "display_data"
    }
   ],
   "source": [
    "import matplotlib\n",
    "\n",
    "dates = matplotlib.dates.date2num(test_sequences_data.TimeStamp.tolist())\n",
    "plt.plot_date(dates, predictions_descaled, \"-\", label=\"predicted\")\n",
    "plt.plot_date(dates, labels_descaled, \"-\", label=\"real\")\n",
    "plt.xticks(rotation=45)\n",
    "plt.legend()"
   ]
  }
 ],
 "metadata": {
  "kernelspec": {
   "display_name": "forecasting",
   "language": "python",
   "name": "python3"
  },
  "language_info": {
   "codemirror_mode": {
    "name": "ipython",
    "version": 3
   },
   "file_extension": ".py",
   "mimetype": "text/x-python",
   "name": "python",
   "nbconvert_exporter": "python",
   "pygments_lexer": "ipython3",
   "version": "3.8.17"
  },
  "orig_nbformat": 4
 },
 "nbformat": 4,
 "nbformat_minor": 2
}
